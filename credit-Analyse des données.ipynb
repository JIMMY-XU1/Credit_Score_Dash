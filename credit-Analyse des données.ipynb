{
 "cells": [
  {
   "cell_type": "code",
   "execution_count": 128,
   "metadata": {},
   "outputs": [],
   "source": [
    "import pandas as pd\n",
    "import numpy as np\n",
    "import matplotlib.pyplot as plt\n",
    "import seaborn as sns\n",
    "pd.set_option('display.max_columns', None)"
   ]
  },
  {
   "cell_type": "code",
   "execution_count": 129,
   "metadata": {},
   "outputs": [
    {
     "data": {
      "text/html": [
       "<div>\n",
       "<style scoped>\n",
       "    .dataframe tbody tr th:only-of-type {\n",
       "        vertical-align: middle;\n",
       "    }\n",
       "\n",
       "    .dataframe tbody tr th {\n",
       "        vertical-align: top;\n",
       "    }\n",
       "\n",
       "    .dataframe thead th {\n",
       "        text-align: right;\n",
       "    }\n",
       "</style>\n",
       "<table border=\"1\" class=\"dataframe\">\n",
       "  <thead>\n",
       "    <tr style=\"text-align: right;\">\n",
       "      <th></th>\n",
       "      <th>Id</th>\n",
       "      <th>LIB_PTR_NIV_1</th>\n",
       "      <th>COD_ROL_TIE_1</th>\n",
       "      <th>COD_ROL_TIE_2</th>\n",
       "      <th>NBR_ECH_TOT</th>\n",
       "      <th>TYP_CDT</th>\n",
       "      <th>DAT_CRE_DMD</th>\n",
       "      <th>MNT_ACH</th>\n",
       "      <th>MNT_OCT</th>\n",
       "      <th>COD_SIT_FAM</th>\n",
       "      <th>cod_sit_fam2</th>\n",
       "      <th>NBR_EFT_CHG</th>\n",
       "      <th>TYP_CTR_TRV</th>\n",
       "      <th>COD_PCS</th>\n",
       "      <th>cod_pcs2</th>\n",
       "      <th>profmax</th>\n",
       "      <th>profmax2</th>\n",
       "      <th>COD_SIT_LOG</th>\n",
       "      <th>cod_sit_log2</th>\n",
       "      <th>DAT_OUV_CPT_PLECLI</th>\n",
       "      <th>COD_BQE</th>\n",
       "      <th>COD_SEX</th>\n",
       "      <th>DAT_NAI</th>\n",
       "      <th>age</th>\n",
       "      <th>agemax</th>\n",
       "      <th>DAT_EMB</th>\n",
       "      <th>MNT_SAL</th>\n",
       "      <th>MNT_RTI</th>\n",
       "      <th>MNT_PSN_IVD</th>\n",
       "      <th>DAT_ENT_LOG</th>\n",
       "      <th>TYP_CPT_COU</th>\n",
       "      <th>typ_cpt_cou2</th>\n",
       "      <th>COD_NTE_1_422</th>\n",
       "      <th>COD_NTE_1_423</th>\n",
       "      <th>COD_NTE_1_424</th>\n",
       "      <th>COD_NTE_1_425</th>\n",
       "      <th>COD_NTE_1_426</th>\n",
       "      <th>COD_NTE_1_427</th>\n",
       "      <th>COD_NTE_1_428</th>\n",
       "      <th>COD_NTE_1_429</th>\n",
       "      <th>COD_NTE_1_430</th>\n",
       "      <th>COD_NTE_1_431</th>\n",
       "      <th>COD_NTE_1_432</th>\n",
       "      <th>COD_NTE_1_433</th>\n",
       "      <th>COD_NTE_1_434</th>\n",
       "      <th>COD_NTE_1_435</th>\n",
       "      <th>sit6m_4</th>\n",
       "      <th>age_r</th>\n",
       "      <th>MNT_OCT_r</th>\n",
       "      <th>NBR_ECH_TOT_r</th>\n",
       "      <th>MNT_ACH_r</th>\n",
       "    </tr>\n",
       "  </thead>\n",
       "  <tbody>\n",
       "    <tr>\n",
       "      <th>0</th>\n",
       "      <td>I1</td>\n",
       "      <td>Enseigne mode, beauté, maison</td>\n",
       "      <td>E</td>\n",
       "      <td>A</td>\n",
       "      <td>30.0</td>\n",
       "      <td>REN</td>\n",
       "      <td>2015-02-23</td>\n",
       "      <td>0.0</td>\n",
       "      <td>1000.0</td>\n",
       "      <td>M</td>\n",
       "      <td>Marié</td>\n",
       "      <td>1.0</td>\n",
       "      <td>CDI</td>\n",
       "      <td>5400.0</td>\n",
       "      <td>Employés</td>\n",
       "      <td>5.0</td>\n",
       "      <td>Employés</td>\n",
       "      <td>A</td>\n",
       "      <td>Accession à la propriété</td>\n",
       "      <td>2014-01-01</td>\n",
       "      <td>8000.0</td>\n",
       "      <td>F</td>\n",
       "      <td>1975-06-27</td>\n",
       "      <td>39.0</td>\n",
       "      <td>45.0</td>\n",
       "      <td>2006-01-01</td>\n",
       "      <td>1400.0</td>\n",
       "      <td>0.0</td>\n",
       "      <td>0.0</td>\n",
       "      <td>2008-01-01</td>\n",
       "      <td>3.0</td>\n",
       "      <td>Compte joint</td>\n",
       "      <td>NaN</td>\n",
       "      <td>0.0</td>\n",
       "      <td>0.0</td>\n",
       "      <td>0.0</td>\n",
       "      <td>0.0</td>\n",
       "      <td>0.0</td>\n",
       "      <td>1.0</td>\n",
       "      <td>1.0</td>\n",
       "      <td>0.0</td>\n",
       "      <td>0.0</td>\n",
       "      <td>1.0</td>\n",
       "      <td>1.0</td>\n",
       "      <td>1.0</td>\n",
       "      <td>1.0</td>\n",
       "      <td>B</td>\n",
       "      <td>2.0</td>\n",
       "      <td>1.0</td>\n",
       "      <td>2.0</td>\n",
       "      <td>1.0</td>\n",
       "    </tr>\n",
       "    <tr>\n",
       "      <th>1</th>\n",
       "      <td>I10</td>\n",
       "      <td>Enseigne mode, beauté, maison</td>\n",
       "      <td>E</td>\n",
       "      <td>NaN</td>\n",
       "      <td>33.0</td>\n",
       "      <td>REN</td>\n",
       "      <td>2015-07-28</td>\n",
       "      <td>0.0</td>\n",
       "      <td>1000.0</td>\n",
       "      <td>C</td>\n",
       "      <td>Célibataire</td>\n",
       "      <td>2.0</td>\n",
       "      <td>AUT</td>\n",
       "      <td>2100.0</td>\n",
       "      <td>Artisans, commerçants et chefs d'entreprise</td>\n",
       "      <td>2.0</td>\n",
       "      <td>Artisans, commerçants et chefs d'entreprise</td>\n",
       "      <td>A</td>\n",
       "      <td>Accession à la propriété</td>\n",
       "      <td>2000-01-01</td>\n",
       "      <td>30006.0</td>\n",
       "      <td>F</td>\n",
       "      <td>1963-03-29</td>\n",
       "      <td>52.0</td>\n",
       "      <td>52.0</td>\n",
       "      <td>2007-09-01</td>\n",
       "      <td>2000.0</td>\n",
       "      <td>0.0</td>\n",
       "      <td>0.0</td>\n",
       "      <td>1991-01-01</td>\n",
       "      <td>1.0</td>\n",
       "      <td>Compte de l'emprunteur</td>\n",
       "      <td>NaN</td>\n",
       "      <td>NaN</td>\n",
       "      <td>NaN</td>\n",
       "      <td>NaN</td>\n",
       "      <td>NaN</td>\n",
       "      <td>NaN</td>\n",
       "      <td>0.0</td>\n",
       "      <td>0.0</td>\n",
       "      <td>0.0</td>\n",
       "      <td>0.0</td>\n",
       "      <td>0.0</td>\n",
       "      <td>0.0</td>\n",
       "      <td>0.0</td>\n",
       "      <td>0.0</td>\n",
       "      <td>I</td>\n",
       "      <td>3.0</td>\n",
       "      <td>1.0</td>\n",
       "      <td>2.0</td>\n",
       "      <td>1.0</td>\n",
       "    </tr>\n",
       "  </tbody>\n",
       "</table>\n",
       "</div>"
      ],
      "text/plain": [
       "    Id                  LIB_PTR_NIV_1 COD_ROL_TIE_1 COD_ROL_TIE_2  \\\n",
       "0   I1  Enseigne mode, beauté, maison             E             A   \n",
       "1  I10  Enseigne mode, beauté, maison             E           NaN   \n",
       "\n",
       "   NBR_ECH_TOT TYP_CDT DAT_CRE_DMD  MNT_ACH  MNT_OCT COD_SIT_FAM cod_sit_fam2  \\\n",
       "0         30.0     REN  2015-02-23      0.0   1000.0           M        Marié   \n",
       "1         33.0     REN  2015-07-28      0.0   1000.0           C  Célibataire   \n",
       "\n",
       "   NBR_EFT_CHG TYP_CTR_TRV  COD_PCS  \\\n",
       "0          1.0         CDI   5400.0   \n",
       "1          2.0         AUT   2100.0   \n",
       "\n",
       "                                      cod_pcs2  profmax  \\\n",
       "0                                     Employés      5.0   \n",
       "1  Artisans, commerçants et chefs d'entreprise      2.0   \n",
       "\n",
       "                                      profmax2 COD_SIT_LOG  \\\n",
       "0                                     Employés           A   \n",
       "1  Artisans, commerçants et chefs d'entreprise           A   \n",
       "\n",
       "               cod_sit_log2 DAT_OUV_CPT_PLECLI  COD_BQE COD_SEX    DAT_NAI  \\\n",
       "0  Accession à la propriété         2014-01-01   8000.0       F 1975-06-27   \n",
       "1  Accession à la propriété         2000-01-01  30006.0       F 1963-03-29   \n",
       "\n",
       "    age  agemax    DAT_EMB  MNT_SAL  MNT_RTI  MNT_PSN_IVD DAT_ENT_LOG  \\\n",
       "0  39.0    45.0 2006-01-01   1400.0      0.0          0.0  2008-01-01   \n",
       "1  52.0    52.0 2007-09-01   2000.0      0.0          0.0  1991-01-01   \n",
       "\n",
       "   TYP_CPT_COU            typ_cpt_cou2 COD_NTE_1_422  COD_NTE_1_423  \\\n",
       "0          3.0            Compte joint           NaN            0.0   \n",
       "1          1.0  Compte de l'emprunteur           NaN            NaN   \n",
       "\n",
       "   COD_NTE_1_424  COD_NTE_1_425  COD_NTE_1_426  COD_NTE_1_427  COD_NTE_1_428  \\\n",
       "0            0.0            0.0            0.0            0.0            1.0   \n",
       "1            NaN            NaN            NaN            NaN            0.0   \n",
       "\n",
       "   COD_NTE_1_429  COD_NTE_1_430  COD_NTE_1_431  COD_NTE_1_432  COD_NTE_1_433  \\\n",
       "0            1.0            0.0            0.0            1.0            1.0   \n",
       "1            0.0            0.0            0.0            0.0            0.0   \n",
       "\n",
       "   COD_NTE_1_434  COD_NTE_1_435 sit6m_4  age_r  MNT_OCT_r  NBR_ECH_TOT_r  \\\n",
       "0            1.0            1.0       B    2.0        1.0            2.0   \n",
       "1            0.0            0.0       I    3.0        1.0            2.0   \n",
       "\n",
       "   MNT_ACH_r  \n",
       "0        1.0  \n",
       "1        1.0  "
      ]
     },
     "execution_count": 129,
     "metadata": {},
     "output_type": "execute_result"
    }
   ],
   "source": [
    "credit_1 = pd.read_sas(\"/Users/xudawei/Desktop/Dash/Credit的副本/data/CREDIT.sas7bdat\", \n",
    "                       format = 'sas7bdat', encoding = \"ISO-8859-1\")\n",
    "data_1 = pd.DataFrame(credit_1)\n",
    "\n",
    "data_1.head(n=2)"
   ]
  },
  {
   "cell_type": "code",
   "execution_count": 130,
   "metadata": {},
   "outputs": [
    {
     "data": {
      "text/html": [
       "<div>\n",
       "<style scoped>\n",
       "    .dataframe tbody tr th:only-of-type {\n",
       "        vertical-align: middle;\n",
       "    }\n",
       "\n",
       "    .dataframe tbody tr th {\n",
       "        vertical-align: top;\n",
       "    }\n",
       "\n",
       "    .dataframe thead th {\n",
       "        text-align: right;\n",
       "    }\n",
       "</style>\n",
       "<table border=\"1\" class=\"dataframe\">\n",
       "  <thead>\n",
       "    <tr style=\"text-align: right;\">\n",
       "      <th></th>\n",
       "      <th>sit6m_4</th>\n",
       "      <th>LIB_PTR_NIV_1</th>\n",
       "      <th>NBR_ECH_TOT</th>\n",
       "      <th>TYP_CDT</th>\n",
       "      <th>MNT_ACH</th>\n",
       "      <th>MNT_OCT</th>\n",
       "      <th>COD_SIT_FAM</th>\n",
       "      <th>NBR_EFT_CHG</th>\n",
       "      <th>TYP_CTR_TRV</th>\n",
       "      <th>cod_pcs2</th>\n",
       "      <th>cod_sit_log2</th>\n",
       "      <th>COD_SEX</th>\n",
       "      <th>age</th>\n",
       "      <th>MNT_SAL</th>\n",
       "      <th>MNT_RTI</th>\n",
       "      <th>MNT_PSN_IVD</th>\n",
       "    </tr>\n",
       "  </thead>\n",
       "  <tbody>\n",
       "    <tr>\n",
       "      <th>0</th>\n",
       "      <td>B</td>\n",
       "      <td>Enseigne mode, beauté, maison</td>\n",
       "      <td>30.0</td>\n",
       "      <td>REN</td>\n",
       "      <td>0.0</td>\n",
       "      <td>1000.0</td>\n",
       "      <td>M</td>\n",
       "      <td>1.0</td>\n",
       "      <td>CDI</td>\n",
       "      <td>Employés</td>\n",
       "      <td>Accession à la propriété</td>\n",
       "      <td>F</td>\n",
       "      <td>39.0</td>\n",
       "      <td>1400.0</td>\n",
       "      <td>0.0</td>\n",
       "      <td>0.0</td>\n",
       "    </tr>\n",
       "    <tr>\n",
       "      <th>1</th>\n",
       "      <td>I</td>\n",
       "      <td>Enseigne mode, beauté, maison</td>\n",
       "      <td>33.0</td>\n",
       "      <td>REN</td>\n",
       "      <td>0.0</td>\n",
       "      <td>1000.0</td>\n",
       "      <td>C</td>\n",
       "      <td>2.0</td>\n",
       "      <td>AUT</td>\n",
       "      <td>Artisans, commerçants et chefs d'entreprise</td>\n",
       "      <td>Accession à la propriété</td>\n",
       "      <td>F</td>\n",
       "      <td>52.0</td>\n",
       "      <td>2000.0</td>\n",
       "      <td>0.0</td>\n",
       "      <td>0.0</td>\n",
       "    </tr>\n",
       "  </tbody>\n",
       "</table>\n",
       "</div>"
      ],
      "text/plain": [
       "  sit6m_4                  LIB_PTR_NIV_1  NBR_ECH_TOT TYP_CDT  MNT_ACH  \\\n",
       "0       B  Enseigne mode, beauté, maison         30.0     REN      0.0   \n",
       "1       I  Enseigne mode, beauté, maison         33.0     REN      0.0   \n",
       "\n",
       "   MNT_OCT COD_SIT_FAM  NBR_EFT_CHG TYP_CTR_TRV  \\\n",
       "0   1000.0           M          1.0         CDI   \n",
       "1   1000.0           C          2.0         AUT   \n",
       "\n",
       "                                      cod_pcs2              cod_sit_log2  \\\n",
       "0                                     Employés  Accession à la propriété   \n",
       "1  Artisans, commerçants et chefs d'entreprise  Accession à la propriété   \n",
       "\n",
       "  COD_SEX   age  MNT_SAL  MNT_RTI  MNT_PSN_IVD  \n",
       "0       F  39.0   1400.0      0.0          0.0  \n",
       "1       F  52.0   2000.0      0.0          0.0  "
      ]
     },
     "execution_count": 130,
     "metadata": {},
     "output_type": "execute_result"
    }
   ],
   "source": [
    "# supprimer des varaibles répétées\n",
    "data=data_1[['sit6m_4','LIB_PTR_NIV_1','NBR_ECH_TOT','TYP_CDT','MNT_ACH','MNT_OCT','COD_SIT_FAM',\n",
    "    'NBR_EFT_CHG','TYP_CTR_TRV','cod_pcs2','cod_sit_log2','COD_SEX','age',\n",
    "   'MNT_SAL','MNT_RTI','MNT_PSN_IVD']]\n",
    "data.head(n=2)"
   ]
  },
  {
   "cell_type": "code",
   "execution_count": 131,
   "metadata": {},
   "outputs": [
    {
     "name": "stderr",
     "output_type": "stream",
     "text": [
      "/Users/xudawei/anaconda3/lib/python3.7/site-packages/ipykernel_launcher.py:1: SettingWithCopyWarning: \n",
      "A value is trying to be set on a copy of a slice from a DataFrame.\n",
      "Try using .loc[row_indexer,col_indexer] = value instead\n",
      "\n",
      "See the caveats in the documentation: http://pandas.pydata.org/pandas-docs/stable/indexing.html#indexing-view-versus-copy\n",
      "  \"\"\"Entry point for launching an IPython kernel.\n"
     ]
    }
   ],
   "source": [
    "data['revenu'] = (data['MNT_SAL'] + data['MNT_RTI'] + data['MNT_PSN_IVD'])"
   ]
  },
  {
   "cell_type": "code",
   "execution_count": 132,
   "metadata": {},
   "outputs": [],
   "source": [
    "df = data.drop(columns= ['MNT_SAL','MNT_RTI','MNT_PSN_IVD'])"
   ]
  },
  {
   "cell_type": "code",
   "execution_count": 133,
   "metadata": {},
   "outputs": [
    {
     "data": {
      "text/html": [
       "<div>\n",
       "<style scoped>\n",
       "    .dataframe tbody tr th:only-of-type {\n",
       "        vertical-align: middle;\n",
       "    }\n",
       "\n",
       "    .dataframe tbody tr th {\n",
       "        vertical-align: top;\n",
       "    }\n",
       "\n",
       "    .dataframe thead th {\n",
       "        text-align: right;\n",
       "    }\n",
       "</style>\n",
       "<table border=\"1\" class=\"dataframe\">\n",
       "  <thead>\n",
       "    <tr style=\"text-align: right;\">\n",
       "      <th></th>\n",
       "      <th>sit6m_4</th>\n",
       "      <th>LIB_PTR_NIV_1</th>\n",
       "      <th>NBR_ECH_TOT</th>\n",
       "      <th>TYP_CDT</th>\n",
       "      <th>MNT_ACH</th>\n",
       "      <th>MNT_OCT</th>\n",
       "      <th>COD_SIT_FAM</th>\n",
       "      <th>NBR_EFT_CHG</th>\n",
       "      <th>TYP_CTR_TRV</th>\n",
       "      <th>cod_pcs2</th>\n",
       "      <th>cod_sit_log2</th>\n",
       "      <th>COD_SEX</th>\n",
       "      <th>age</th>\n",
       "      <th>revenu</th>\n",
       "    </tr>\n",
       "  </thead>\n",
       "  <tbody>\n",
       "    <tr>\n",
       "      <th>0</th>\n",
       "      <td>B</td>\n",
       "      <td>Enseigne mode, beauté, maison</td>\n",
       "      <td>30.0</td>\n",
       "      <td>REN</td>\n",
       "      <td>0.0</td>\n",
       "      <td>1000.0</td>\n",
       "      <td>M</td>\n",
       "      <td>1.0</td>\n",
       "      <td>CDI</td>\n",
       "      <td>Employés</td>\n",
       "      <td>Accession à la propriété</td>\n",
       "      <td>F</td>\n",
       "      <td>39.0</td>\n",
       "      <td>1400.0</td>\n",
       "    </tr>\n",
       "    <tr>\n",
       "      <th>1</th>\n",
       "      <td>I</td>\n",
       "      <td>Enseigne mode, beauté, maison</td>\n",
       "      <td>33.0</td>\n",
       "      <td>REN</td>\n",
       "      <td>0.0</td>\n",
       "      <td>1000.0</td>\n",
       "      <td>C</td>\n",
       "      <td>2.0</td>\n",
       "      <td>AUT</td>\n",
       "      <td>Artisans, commerçants et chefs d'entreprise</td>\n",
       "      <td>Accession à la propriété</td>\n",
       "      <td>F</td>\n",
       "      <td>52.0</td>\n",
       "      <td>2000.0</td>\n",
       "    </tr>\n",
       "  </tbody>\n",
       "</table>\n",
       "</div>"
      ],
      "text/plain": [
       "  sit6m_4                  LIB_PTR_NIV_1  NBR_ECH_TOT TYP_CDT  MNT_ACH  \\\n",
       "0       B  Enseigne mode, beauté, maison         30.0     REN      0.0   \n",
       "1       I  Enseigne mode, beauté, maison         33.0     REN      0.0   \n",
       "\n",
       "   MNT_OCT COD_SIT_FAM  NBR_EFT_CHG TYP_CTR_TRV  \\\n",
       "0   1000.0           M          1.0         CDI   \n",
       "1   1000.0           C          2.0         AUT   \n",
       "\n",
       "                                      cod_pcs2              cod_sit_log2  \\\n",
       "0                                     Employés  Accession à la propriété   \n",
       "1  Artisans, commerçants et chefs d'entreprise  Accession à la propriété   \n",
       "\n",
       "  COD_SEX   age  revenu  \n",
       "0       F  39.0  1400.0  \n",
       "1       F  52.0  2000.0  "
      ]
     },
     "execution_count": 133,
     "metadata": {},
     "output_type": "execute_result"
    }
   ],
   "source": [
    "df.head(n=2)"
   ]
  },
  {
   "cell_type": "code",
   "execution_count": 134,
   "metadata": {},
   "outputs": [],
   "source": [
    "# changer le nom des columns\n",
    "columns = ['Credit','Partenaire','Durée_du_crédit',\n",
    "           'Type_de_produit','Montant_du_crédit','Montant_du_renouvelable',\n",
    "          'Situation_familliale','Nombre_enfant','Contrat_de_travail',\n",
    "           'Profession','Situation_logement','Sex','Age','Revenu']\n",
    "df.columns = columns\n",
    "df.head()\n",
    "df.to_csv('/Users/xudawei/Desktop/Dash/Credit的副本/data/Kmeans')"
   ]
  },
  {
   "cell_type": "code",
   "execution_count": 135,
   "metadata": {},
   "outputs": [
    {
     "data": {
      "text/plain": [
       "(64790, 14)"
      ]
     },
     "execution_count": 135,
     "metadata": {},
     "output_type": "execute_result"
    }
   ],
   "source": [
    "df.shape"
   ]
  },
  {
   "cell_type": "code",
   "execution_count": 136,
   "metadata": {},
   "outputs": [
    {
     "data": {
      "text/plain": [
       "Credit                         0\n",
       "Partenaire                     0\n",
       "Durée_du_crédit                0\n",
       "Type_de_produit                0\n",
       "Montant_du_crédit              0\n",
       "Montant_du_renouvelable        0\n",
       "Situation_familliale           0\n",
       "Nombre_enfant                  0\n",
       "Contrat_de_travail         16483\n",
       "Profession                     0\n",
       "Situation_logement             0\n",
       "Sex                            0\n",
       "Age                            0\n",
       "Revenu                         0\n",
       "dtype: int64"
      ]
     },
     "execution_count": 136,
     "metadata": {},
     "output_type": "execute_result"
    }
   ],
   "source": [
    "df.isnull().sum()"
   ]
  },
  {
   "cell_type": "code",
   "execution_count": 137,
   "metadata": {},
   "outputs": [],
   "source": [
    "# age, revenu, durée du credit : variables continues\n",
    "credit_dict = {\"B\": 1, \"I\":1,\"M\":0}\n",
    "def obj_credit(credit):\n",
    "    changer = credit_dict\n",
    "    return changer[credit]\n",
    "df['Credit']=df['Credit'].apply(obj_credit)\n"
   ]
  },
  {
   "cell_type": "code",
   "execution_count": 138,
   "metadata": {},
   "outputs": [
    {
     "data": {
      "text/plain": [
       "array([1, 0])"
      ]
     },
     "execution_count": 138,
     "metadata": {},
     "output_type": "execute_result"
    }
   ],
   "source": [
    "df['Credit'].unique()"
   ]
  },
  {
   "cell_type": "code",
   "execution_count": 139,
   "metadata": {},
   "outputs": [
    {
     "data": {
      "text/plain": [
       "{0: 'Enseigne AUTRES',\n",
       " 1: 'Enseigne Bijouterie',\n",
       " 2: 'Enseigne Electroménager',\n",
       " 3: 'Enseigne Optique 1',\n",
       " 4: 'Enseigne Optique 2',\n",
       " 5: 'Enseigne Optique 3',\n",
       " 6: 'Enseigne audition',\n",
       " 7: 'Enseigne mode, beauté, maison',\n",
       " 8: 'Enseigne réparation auto'}"
      ]
     },
     "execution_count": 139,
     "metadata": {},
     "output_type": "execute_result"
    }
   ],
   "source": [
    "Partenaire_list = np.unique(df['Partenaire'].values).tolist()\n",
    "Partenaire_dict, anti_Partenaire_dict = {},{}\n",
    "for (item, index) in enumerate(Partenaire_list):\n",
    "    Partenaire_dict[index] = item\n",
    "    anti_Partenaire_dict[item] = index\n",
    "\n",
    "anti_Partenaire_dict\n"
   ]
  },
  {
   "cell_type": "code",
   "execution_count": 140,
   "metadata": {},
   "outputs": [],
   "source": [
    "#changer le tyep de 'Partenaire'\n",
    "def obj2num_Partenaire(Partenaire):\n",
    "    changer = Partenaire_dict\n",
    "    return changer[Partenaire]\n",
    "df['Partenaire']=df['Partenaire'].apply(obj2num_Partenaire)"
   ]
  },
  {
   "cell_type": "code",
   "execution_count": 141,
   "metadata": {},
   "outputs": [
    {
     "data": {
      "text/html": [
       "<div>\n",
       "<style scoped>\n",
       "    .dataframe tbody tr th:only-of-type {\n",
       "        vertical-align: middle;\n",
       "    }\n",
       "\n",
       "    .dataframe tbody tr th {\n",
       "        vertical-align: top;\n",
       "    }\n",
       "\n",
       "    .dataframe thead th {\n",
       "        text-align: right;\n",
       "    }\n",
       "</style>\n",
       "<table border=\"1\" class=\"dataframe\">\n",
       "  <thead>\n",
       "    <tr style=\"text-align: right;\">\n",
       "      <th></th>\n",
       "      <th>Credit</th>\n",
       "      <th>Partenaire</th>\n",
       "      <th>Durée_du_crédit</th>\n",
       "      <th>Type_de_produit</th>\n",
       "      <th>Montant_du_crédit</th>\n",
       "      <th>Montant_du_renouvelable</th>\n",
       "      <th>Situation_familliale</th>\n",
       "      <th>Nombre_enfant</th>\n",
       "      <th>Contrat_de_travail</th>\n",
       "      <th>Profession</th>\n",
       "      <th>Situation_logement</th>\n",
       "      <th>Sex</th>\n",
       "      <th>Age</th>\n",
       "      <th>Revenu</th>\n",
       "    </tr>\n",
       "  </thead>\n",
       "  <tbody>\n",
       "    <tr>\n",
       "      <th>0</th>\n",
       "      <td>1</td>\n",
       "      <td>7</td>\n",
       "      <td>30.0</td>\n",
       "      <td>REN</td>\n",
       "      <td>0.0</td>\n",
       "      <td>1000.0</td>\n",
       "      <td>M</td>\n",
       "      <td>1.0</td>\n",
       "      <td>CDI</td>\n",
       "      <td>Employés</td>\n",
       "      <td>Accession à la propriété</td>\n",
       "      <td>F</td>\n",
       "      <td>39.0</td>\n",
       "      <td>1400.0</td>\n",
       "    </tr>\n",
       "    <tr>\n",
       "      <th>1</th>\n",
       "      <td>1</td>\n",
       "      <td>7</td>\n",
       "      <td>33.0</td>\n",
       "      <td>REN</td>\n",
       "      <td>0.0</td>\n",
       "      <td>1000.0</td>\n",
       "      <td>C</td>\n",
       "      <td>2.0</td>\n",
       "      <td>AUT</td>\n",
       "      <td>Artisans, commerçants et chefs d'entreprise</td>\n",
       "      <td>Accession à la propriété</td>\n",
       "      <td>F</td>\n",
       "      <td>52.0</td>\n",
       "      <td>2000.0</td>\n",
       "    </tr>\n",
       "  </tbody>\n",
       "</table>\n",
       "</div>"
      ],
      "text/plain": [
       "   Credit  Partenaire  Durée_du_crédit Type_de_produit  Montant_du_crédit  \\\n",
       "0       1           7             30.0             REN                0.0   \n",
       "1       1           7             33.0             REN                0.0   \n",
       "\n",
       "   Montant_du_renouvelable Situation_familliale  Nombre_enfant  \\\n",
       "0                   1000.0                    M            1.0   \n",
       "1                   1000.0                    C            2.0   \n",
       "\n",
       "  Contrat_de_travail                                   Profession  \\\n",
       "0                CDI                                     Employés   \n",
       "1                AUT  Artisans, commerçants et chefs d'entreprise   \n",
       "\n",
       "         Situation_logement Sex   Age  Revenu  \n",
       "0  Accession à la propriété   F  39.0  1400.0  \n",
       "1  Accession à la propriété   F  52.0  2000.0  "
      ]
     },
     "execution_count": 141,
     "metadata": {},
     "output_type": "execute_result"
    }
   ],
   "source": [
    "df.head(n=2)"
   ]
  },
  {
   "cell_type": "code",
   "execution_count": 142,
   "metadata": {},
   "outputs": [
    {
     "data": {
      "text/plain": [
       "{0: 'AMO', 1: 'REN'}"
      ]
     },
     "execution_count": 142,
     "metadata": {},
     "output_type": "execute_result"
    }
   ],
   "source": [
    "Type_de_produit_list = np.unique(df['Type_de_produit'].values).tolist()\n",
    "Type_de_produit_dict, anti_Type_de_produit_dict = {},{}\n",
    "for (item, index) in enumerate(Type_de_produit_list):\n",
    "    Type_de_produit_dict[index] = item\n",
    "    anti_Type_de_produit_dict[item] = index\n",
    "\n",
    "anti_Type_de_produit_dict\n"
   ]
  },
  {
   "cell_type": "code",
   "execution_count": 143,
   "metadata": {},
   "outputs": [],
   "source": [
    "#changer le tyep de 'Type_de_produit'\n",
    "def obj2num_Type_de_produit(Type_de_produit):\n",
    "    changer = Type_de_produit_dict\n",
    "    return changer[Type_de_produit]\n",
    "df['Type_de_produit']=df['Type_de_produit'].apply(obj2num_Type_de_produit)"
   ]
  },
  {
   "cell_type": "code",
   "execution_count": 144,
   "metadata": {},
   "outputs": [
    {
     "data": {
      "text/html": [
       "<div>\n",
       "<style scoped>\n",
       "    .dataframe tbody tr th:only-of-type {\n",
       "        vertical-align: middle;\n",
       "    }\n",
       "\n",
       "    .dataframe tbody tr th {\n",
       "        vertical-align: top;\n",
       "    }\n",
       "\n",
       "    .dataframe thead th {\n",
       "        text-align: right;\n",
       "    }\n",
       "</style>\n",
       "<table border=\"1\" class=\"dataframe\">\n",
       "  <thead>\n",
       "    <tr style=\"text-align: right;\">\n",
       "      <th></th>\n",
       "      <th>Credit</th>\n",
       "      <th>Partenaire</th>\n",
       "      <th>Durée_du_crédit</th>\n",
       "      <th>Type_de_produit</th>\n",
       "      <th>Montant_du_crédit</th>\n",
       "      <th>Montant_du_renouvelable</th>\n",
       "      <th>Situation_familliale</th>\n",
       "      <th>Nombre_enfant</th>\n",
       "      <th>Contrat_de_travail</th>\n",
       "      <th>Profession</th>\n",
       "      <th>Situation_logement</th>\n",
       "      <th>Sex</th>\n",
       "      <th>Age</th>\n",
       "      <th>Revenu</th>\n",
       "    </tr>\n",
       "  </thead>\n",
       "  <tbody>\n",
       "    <tr>\n",
       "      <th>0</th>\n",
       "      <td>1</td>\n",
       "      <td>7</td>\n",
       "      <td>30.0</td>\n",
       "      <td>1</td>\n",
       "      <td>0.0</td>\n",
       "      <td>1000.0</td>\n",
       "      <td>M</td>\n",
       "      <td>1.0</td>\n",
       "      <td>CDI</td>\n",
       "      <td>Employés</td>\n",
       "      <td>Accession à la propriété</td>\n",
       "      <td>F</td>\n",
       "      <td>39.0</td>\n",
       "      <td>1400.0</td>\n",
       "    </tr>\n",
       "    <tr>\n",
       "      <th>1</th>\n",
       "      <td>1</td>\n",
       "      <td>7</td>\n",
       "      <td>33.0</td>\n",
       "      <td>1</td>\n",
       "      <td>0.0</td>\n",
       "      <td>1000.0</td>\n",
       "      <td>C</td>\n",
       "      <td>2.0</td>\n",
       "      <td>AUT</td>\n",
       "      <td>Artisans, commerçants et chefs d'entreprise</td>\n",
       "      <td>Accession à la propriété</td>\n",
       "      <td>F</td>\n",
       "      <td>52.0</td>\n",
       "      <td>2000.0</td>\n",
       "    </tr>\n",
       "  </tbody>\n",
       "</table>\n",
       "</div>"
      ],
      "text/plain": [
       "   Credit  Partenaire  Durée_du_crédit  Type_de_produit  Montant_du_crédit  \\\n",
       "0       1           7             30.0                1                0.0   \n",
       "1       1           7             33.0                1                0.0   \n",
       "\n",
       "   Montant_du_renouvelable Situation_familliale  Nombre_enfant  \\\n",
       "0                   1000.0                    M            1.0   \n",
       "1                   1000.0                    C            2.0   \n",
       "\n",
       "  Contrat_de_travail                                   Profession  \\\n",
       "0                CDI                                     Employés   \n",
       "1                AUT  Artisans, commerçants et chefs d'entreprise   \n",
       "\n",
       "         Situation_logement Sex   Age  Revenu  \n",
       "0  Accession à la propriété   F  39.0  1400.0  \n",
       "1  Accession à la propriété   F  52.0  2000.0  "
      ]
     },
     "execution_count": 144,
     "metadata": {},
     "output_type": "execute_result"
    }
   ],
   "source": [
    "df.head(n=2)"
   ]
  },
  {
   "cell_type": "code",
   "execution_count": 145,
   "metadata": {},
   "outputs": [
    {
     "data": {
      "text/plain": [
       "{0: 'C', 1: 'D', 2: 'K', 3: 'M', 4: 'P', 5: 'S', 6: 'V'}"
      ]
     },
     "execution_count": 145,
     "metadata": {},
     "output_type": "execute_result"
    }
   ],
   "source": [
    "Situation_familliale_list = np.unique(df['Situation_familliale'].values).tolist()\n",
    "Situation_familliale_dict, anti_Situation_familliale_dict = {},{}\n",
    "for (item, index) in enumerate(Situation_familliale_list):\n",
    "    Situation_familliale_dict[index] = item\n",
    "    anti_Situation_familliale_dict[item] = index\n",
    "\n",
    "anti_Situation_familliale_dict"
   ]
  },
  {
   "cell_type": "code",
   "execution_count": 146,
   "metadata": {},
   "outputs": [],
   "source": [
    "#changer le tyep de 'Situation_familliale'\n",
    "def obj2num_Situation_familliale(Situation_familliale):\n",
    "    changer = Situation_familliale_dict\n",
    "    return changer[Situation_familliale]\n",
    "df['Situation_familliale']=df['Situation_familliale'].apply(obj2num_Situation_familliale)"
   ]
  },
  {
   "cell_type": "code",
   "execution_count": 147,
   "metadata": {},
   "outputs": [
    {
     "data": {
      "text/html": [
       "<div>\n",
       "<style scoped>\n",
       "    .dataframe tbody tr th:only-of-type {\n",
       "        vertical-align: middle;\n",
       "    }\n",
       "\n",
       "    .dataframe tbody tr th {\n",
       "        vertical-align: top;\n",
       "    }\n",
       "\n",
       "    .dataframe thead th {\n",
       "        text-align: right;\n",
       "    }\n",
       "</style>\n",
       "<table border=\"1\" class=\"dataframe\">\n",
       "  <thead>\n",
       "    <tr style=\"text-align: right;\">\n",
       "      <th></th>\n",
       "      <th>Credit</th>\n",
       "      <th>Partenaire</th>\n",
       "      <th>Durée_du_crédit</th>\n",
       "      <th>Type_de_produit</th>\n",
       "      <th>Montant_du_crédit</th>\n",
       "      <th>Montant_du_renouvelable</th>\n",
       "      <th>Situation_familliale</th>\n",
       "      <th>Nombre_enfant</th>\n",
       "      <th>Contrat_de_travail</th>\n",
       "      <th>Profession</th>\n",
       "      <th>Situation_logement</th>\n",
       "      <th>Sex</th>\n",
       "      <th>Age</th>\n",
       "      <th>Revenu</th>\n",
       "    </tr>\n",
       "  </thead>\n",
       "  <tbody>\n",
       "    <tr>\n",
       "      <th>0</th>\n",
       "      <td>1</td>\n",
       "      <td>7</td>\n",
       "      <td>30.0</td>\n",
       "      <td>1</td>\n",
       "      <td>0.0</td>\n",
       "      <td>1000.0</td>\n",
       "      <td>3</td>\n",
       "      <td>1.0</td>\n",
       "      <td>CDI</td>\n",
       "      <td>Employés</td>\n",
       "      <td>Accession à la propriété</td>\n",
       "      <td>F</td>\n",
       "      <td>39.0</td>\n",
       "      <td>1400.0</td>\n",
       "    </tr>\n",
       "    <tr>\n",
       "      <th>1</th>\n",
       "      <td>1</td>\n",
       "      <td>7</td>\n",
       "      <td>33.0</td>\n",
       "      <td>1</td>\n",
       "      <td>0.0</td>\n",
       "      <td>1000.0</td>\n",
       "      <td>0</td>\n",
       "      <td>2.0</td>\n",
       "      <td>AUT</td>\n",
       "      <td>Artisans, commerçants et chefs d'entreprise</td>\n",
       "      <td>Accession à la propriété</td>\n",
       "      <td>F</td>\n",
       "      <td>52.0</td>\n",
       "      <td>2000.0</td>\n",
       "    </tr>\n",
       "  </tbody>\n",
       "</table>\n",
       "</div>"
      ],
      "text/plain": [
       "   Credit  Partenaire  Durée_du_crédit  Type_de_produit  Montant_du_crédit  \\\n",
       "0       1           7             30.0                1                0.0   \n",
       "1       1           7             33.0                1                0.0   \n",
       "\n",
       "   Montant_du_renouvelable  Situation_familliale  Nombre_enfant  \\\n",
       "0                   1000.0                     3            1.0   \n",
       "1                   1000.0                     0            2.0   \n",
       "\n",
       "  Contrat_de_travail                                   Profession  \\\n",
       "0                CDI                                     Employés   \n",
       "1                AUT  Artisans, commerçants et chefs d'entreprise   \n",
       "\n",
       "         Situation_logement Sex   Age  Revenu  \n",
       "0  Accession à la propriété   F  39.0  1400.0  \n",
       "1  Accession à la propriété   F  52.0  2000.0  "
      ]
     },
     "execution_count": 147,
     "metadata": {},
     "output_type": "execute_result"
    }
   ],
   "source": [
    "df['Contrat_de_travail']=df['Contrat_de_travail'].fillna('NON')\n",
    "df.head(n=2)"
   ]
  },
  {
   "cell_type": "code",
   "execution_count": 148,
   "metadata": {},
   "outputs": [
    {
     "data": {
      "text/plain": [
       "{0: 'AUT', 1: 'CDD', 2: 'CDI', 3: 'INT', 4: 'NON'}"
      ]
     },
     "execution_count": 148,
     "metadata": {},
     "output_type": "execute_result"
    }
   ],
   "source": [
    "Contrat_de_travail_list = np.unique(df['Contrat_de_travail'].values).tolist()\n",
    "Contrat_de_travail_dict, anti_Contrat_de_travail_dict = {},{}\n",
    "for (item, index) in enumerate(Contrat_de_travail_list):\n",
    "    Contrat_de_travail_dict[index] = item\n",
    "    anti_Contrat_de_travail_dict[item] = index\n",
    "\n",
    "anti_Contrat_de_travail_dict"
   ]
  },
  {
   "cell_type": "code",
   "execution_count": 149,
   "metadata": {},
   "outputs": [],
   "source": [
    "#changer le tyep de 'Contrat_de_travail'\n",
    "def obj2num_Contrat_de_travail(Contrat_de_travail):\n",
    "    changer = Contrat_de_travail_dict\n",
    "    return changer[Contrat_de_travail]\n",
    "df['Contrat_de_travail']=df['Contrat_de_travail'].apply(obj2num_Contrat_de_travail)"
   ]
  },
  {
   "cell_type": "code",
   "execution_count": 150,
   "metadata": {},
   "outputs": [
    {
     "data": {
      "text/html": [
       "<div>\n",
       "<style scoped>\n",
       "    .dataframe tbody tr th:only-of-type {\n",
       "        vertical-align: middle;\n",
       "    }\n",
       "\n",
       "    .dataframe tbody tr th {\n",
       "        vertical-align: top;\n",
       "    }\n",
       "\n",
       "    .dataframe thead th {\n",
       "        text-align: right;\n",
       "    }\n",
       "</style>\n",
       "<table border=\"1\" class=\"dataframe\">\n",
       "  <thead>\n",
       "    <tr style=\"text-align: right;\">\n",
       "      <th></th>\n",
       "      <th>Credit</th>\n",
       "      <th>Partenaire</th>\n",
       "      <th>Durée_du_crédit</th>\n",
       "      <th>Type_de_produit</th>\n",
       "      <th>Montant_du_crédit</th>\n",
       "      <th>Montant_du_renouvelable</th>\n",
       "      <th>Situation_familliale</th>\n",
       "      <th>Nombre_enfant</th>\n",
       "      <th>Contrat_de_travail</th>\n",
       "      <th>Profession</th>\n",
       "      <th>Situation_logement</th>\n",
       "      <th>Sex</th>\n",
       "      <th>Age</th>\n",
       "      <th>Revenu</th>\n",
       "    </tr>\n",
       "  </thead>\n",
       "  <tbody>\n",
       "    <tr>\n",
       "      <th>0</th>\n",
       "      <td>1</td>\n",
       "      <td>7</td>\n",
       "      <td>30.0</td>\n",
       "      <td>1</td>\n",
       "      <td>0.0</td>\n",
       "      <td>1000.0</td>\n",
       "      <td>3</td>\n",
       "      <td>1.0</td>\n",
       "      <td>2</td>\n",
       "      <td>Employés</td>\n",
       "      <td>Accession à la propriété</td>\n",
       "      <td>F</td>\n",
       "      <td>39.0</td>\n",
       "      <td>1400.0</td>\n",
       "    </tr>\n",
       "    <tr>\n",
       "      <th>1</th>\n",
       "      <td>1</td>\n",
       "      <td>7</td>\n",
       "      <td>33.0</td>\n",
       "      <td>1</td>\n",
       "      <td>0.0</td>\n",
       "      <td>1000.0</td>\n",
       "      <td>0</td>\n",
       "      <td>2.0</td>\n",
       "      <td>0</td>\n",
       "      <td>Artisans, commerçants et chefs d'entreprise</td>\n",
       "      <td>Accession à la propriété</td>\n",
       "      <td>F</td>\n",
       "      <td>52.0</td>\n",
       "      <td>2000.0</td>\n",
       "    </tr>\n",
       "  </tbody>\n",
       "</table>\n",
       "</div>"
      ],
      "text/plain": [
       "   Credit  Partenaire  Durée_du_crédit  Type_de_produit  Montant_du_crédit  \\\n",
       "0       1           7             30.0                1                0.0   \n",
       "1       1           7             33.0                1                0.0   \n",
       "\n",
       "   Montant_du_renouvelable  Situation_familliale  Nombre_enfant  \\\n",
       "0                   1000.0                     3            1.0   \n",
       "1                   1000.0                     0            2.0   \n",
       "\n",
       "   Contrat_de_travail                                   Profession  \\\n",
       "0                   2                                     Employés   \n",
       "1                   0  Artisans, commerçants et chefs d'entreprise   \n",
       "\n",
       "         Situation_logement Sex   Age  Revenu  \n",
       "0  Accession à la propriété   F  39.0  1400.0  \n",
       "1  Accession à la propriété   F  52.0  2000.0  "
      ]
     },
     "execution_count": 150,
     "metadata": {},
     "output_type": "execute_result"
    }
   ],
   "source": [
    "df.head(n=2)"
   ]
  },
  {
   "cell_type": "code",
   "execution_count": 151,
   "metadata": {},
   "outputs": [
    {
     "data": {
      "text/plain": [
       "{0: 'Agriculteurs exploitants',\n",
       " 1: \"Artisans, commerçants et chefs d'entreprise\",\n",
       " 2: 'Cadres et professions intellectuelles supérieures',\n",
       " 3: 'Employés',\n",
       " 4: 'Invalidités',\n",
       " 5: 'Ouvriers',\n",
       " 6: 'Professions intermédiaires',\n",
       " 7: 'Retraités',\n",
       " 8: 'Sans activité professionnelle'}"
      ]
     },
     "execution_count": 151,
     "metadata": {},
     "output_type": "execute_result"
    }
   ],
   "source": [
    "Profession_list = np.unique(df['Profession'].values).tolist()\n",
    "Profession_dict, anti_Profession_dict = {},{}\n",
    "for (item, index) in enumerate(Profession_list):\n",
    "    Profession_dict[index] = item\n",
    "    anti_Profession_dict[item] = index\n",
    "\n",
    "anti_Profession_dict"
   ]
  },
  {
   "cell_type": "code",
   "execution_count": 152,
   "metadata": {},
   "outputs": [],
   "source": [
    "#changer le tyep de 'Profession'\n",
    "def obj2num_Profession(Profession):\n",
    "    changer = Profession_dict\n",
    "    return changer[Profession]\n",
    "df['Profession']=df['Profession'].apply(obj2num_Profession)"
   ]
  },
  {
   "cell_type": "code",
   "execution_count": 153,
   "metadata": {},
   "outputs": [
    {
     "data": {
      "text/html": [
       "<div>\n",
       "<style scoped>\n",
       "    .dataframe tbody tr th:only-of-type {\n",
       "        vertical-align: middle;\n",
       "    }\n",
       "\n",
       "    .dataframe tbody tr th {\n",
       "        vertical-align: top;\n",
       "    }\n",
       "\n",
       "    .dataframe thead th {\n",
       "        text-align: right;\n",
       "    }\n",
       "</style>\n",
       "<table border=\"1\" class=\"dataframe\">\n",
       "  <thead>\n",
       "    <tr style=\"text-align: right;\">\n",
       "      <th></th>\n",
       "      <th>Credit</th>\n",
       "      <th>Partenaire</th>\n",
       "      <th>Durée_du_crédit</th>\n",
       "      <th>Type_de_produit</th>\n",
       "      <th>Montant_du_crédit</th>\n",
       "      <th>Montant_du_renouvelable</th>\n",
       "      <th>Situation_familliale</th>\n",
       "      <th>Nombre_enfant</th>\n",
       "      <th>Contrat_de_travail</th>\n",
       "      <th>Profession</th>\n",
       "      <th>Situation_logement</th>\n",
       "      <th>Sex</th>\n",
       "      <th>Age</th>\n",
       "      <th>Revenu</th>\n",
       "    </tr>\n",
       "  </thead>\n",
       "  <tbody>\n",
       "    <tr>\n",
       "      <th>0</th>\n",
       "      <td>1</td>\n",
       "      <td>7</td>\n",
       "      <td>30.0</td>\n",
       "      <td>1</td>\n",
       "      <td>0.0</td>\n",
       "      <td>1000.0</td>\n",
       "      <td>3</td>\n",
       "      <td>1.0</td>\n",
       "      <td>2</td>\n",
       "      <td>3</td>\n",
       "      <td>Accession à la propriété</td>\n",
       "      <td>F</td>\n",
       "      <td>39.0</td>\n",
       "      <td>1400.0</td>\n",
       "    </tr>\n",
       "    <tr>\n",
       "      <th>1</th>\n",
       "      <td>1</td>\n",
       "      <td>7</td>\n",
       "      <td>33.0</td>\n",
       "      <td>1</td>\n",
       "      <td>0.0</td>\n",
       "      <td>1000.0</td>\n",
       "      <td>0</td>\n",
       "      <td>2.0</td>\n",
       "      <td>0</td>\n",
       "      <td>1</td>\n",
       "      <td>Accession à la propriété</td>\n",
       "      <td>F</td>\n",
       "      <td>52.0</td>\n",
       "      <td>2000.0</td>\n",
       "    </tr>\n",
       "  </tbody>\n",
       "</table>\n",
       "</div>"
      ],
      "text/plain": [
       "   Credit  Partenaire  Durée_du_crédit  Type_de_produit  Montant_du_crédit  \\\n",
       "0       1           7             30.0                1                0.0   \n",
       "1       1           7             33.0                1                0.0   \n",
       "\n",
       "   Montant_du_renouvelable  Situation_familliale  Nombre_enfant  \\\n",
       "0                   1000.0                     3            1.0   \n",
       "1                   1000.0                     0            2.0   \n",
       "\n",
       "   Contrat_de_travail  Profession        Situation_logement Sex   Age  Revenu  \n",
       "0                   2           3  Accession à la propriété   F  39.0  1400.0  \n",
       "1                   0           1  Accession à la propriété   F  52.0  2000.0  "
      ]
     },
     "execution_count": 153,
     "metadata": {},
     "output_type": "execute_result"
    }
   ],
   "source": [
    "df.head(n=2)"
   ]
  },
  {
   "cell_type": "code",
   "execution_count": 154,
   "metadata": {},
   "outputs": [
    {
     "data": {
      "text/plain": [
       "{0: 'Accession à la propriété',\n",
       " 1: 'Locataire',\n",
       " 2: 'Logement de fonction',\n",
       " 3: 'Logé par famille',\n",
       " 4: 'Propriétaire'}"
      ]
     },
     "execution_count": 154,
     "metadata": {},
     "output_type": "execute_result"
    }
   ],
   "source": [
    "Situation_logement_list = np.unique(df['Situation_logement'].values).tolist()\n",
    "Situation_logement_dict, anti_Situation_logement_dict = {},{}\n",
    "for (item, index) in enumerate(Situation_logement_list):\n",
    "    Situation_logement_dict[index] = item\n",
    "    anti_Situation_logement_dict[item] = index\n",
    "\n",
    "anti_Situation_logement_dict"
   ]
  },
  {
   "cell_type": "code",
   "execution_count": 155,
   "metadata": {},
   "outputs": [],
   "source": [
    "#changer le tyep de 'Situation_logement'\n",
    "def obj2num_Situation_logement(Situation_logement):\n",
    "    changer = Situation_logement_dict\n",
    "    return changer[Situation_logement]\n",
    "df['Situation_logement']=df['Situation_logement'].apply(obj2num_Situation_logement)"
   ]
  },
  {
   "cell_type": "code",
   "execution_count": 156,
   "metadata": {},
   "outputs": [
    {
     "data": {
      "text/html": [
       "<div>\n",
       "<style scoped>\n",
       "    .dataframe tbody tr th:only-of-type {\n",
       "        vertical-align: middle;\n",
       "    }\n",
       "\n",
       "    .dataframe tbody tr th {\n",
       "        vertical-align: top;\n",
       "    }\n",
       "\n",
       "    .dataframe thead th {\n",
       "        text-align: right;\n",
       "    }\n",
       "</style>\n",
       "<table border=\"1\" class=\"dataframe\">\n",
       "  <thead>\n",
       "    <tr style=\"text-align: right;\">\n",
       "      <th></th>\n",
       "      <th>Credit</th>\n",
       "      <th>Partenaire</th>\n",
       "      <th>Durée_du_crédit</th>\n",
       "      <th>Type_de_produit</th>\n",
       "      <th>Montant_du_crédit</th>\n",
       "      <th>Montant_du_renouvelable</th>\n",
       "      <th>Situation_familliale</th>\n",
       "      <th>Nombre_enfant</th>\n",
       "      <th>Contrat_de_travail</th>\n",
       "      <th>Profession</th>\n",
       "      <th>Situation_logement</th>\n",
       "      <th>Sex</th>\n",
       "      <th>Age</th>\n",
       "      <th>Revenu</th>\n",
       "    </tr>\n",
       "  </thead>\n",
       "  <tbody>\n",
       "    <tr>\n",
       "      <th>0</th>\n",
       "      <td>1</td>\n",
       "      <td>7</td>\n",
       "      <td>30.0</td>\n",
       "      <td>1</td>\n",
       "      <td>0.0</td>\n",
       "      <td>1000.0</td>\n",
       "      <td>3</td>\n",
       "      <td>1.0</td>\n",
       "      <td>2</td>\n",
       "      <td>3</td>\n",
       "      <td>0</td>\n",
       "      <td>F</td>\n",
       "      <td>39.0</td>\n",
       "      <td>1400.0</td>\n",
       "    </tr>\n",
       "    <tr>\n",
       "      <th>1</th>\n",
       "      <td>1</td>\n",
       "      <td>7</td>\n",
       "      <td>33.0</td>\n",
       "      <td>1</td>\n",
       "      <td>0.0</td>\n",
       "      <td>1000.0</td>\n",
       "      <td>0</td>\n",
       "      <td>2.0</td>\n",
       "      <td>0</td>\n",
       "      <td>1</td>\n",
       "      <td>0</td>\n",
       "      <td>F</td>\n",
       "      <td>52.0</td>\n",
       "      <td>2000.0</td>\n",
       "    </tr>\n",
       "  </tbody>\n",
       "</table>\n",
       "</div>"
      ],
      "text/plain": [
       "   Credit  Partenaire  Durée_du_crédit  Type_de_produit  Montant_du_crédit  \\\n",
       "0       1           7             30.0                1                0.0   \n",
       "1       1           7             33.0                1                0.0   \n",
       "\n",
       "   Montant_du_renouvelable  Situation_familliale  Nombre_enfant  \\\n",
       "0                   1000.0                     3            1.0   \n",
       "1                   1000.0                     0            2.0   \n",
       "\n",
       "   Contrat_de_travail  Profession  Situation_logement Sex   Age  Revenu  \n",
       "0                   2           3                   0   F  39.0  1400.0  \n",
       "1                   0           1                   0   F  52.0  2000.0  "
      ]
     },
     "execution_count": 156,
     "metadata": {},
     "output_type": "execute_result"
    }
   ],
   "source": [
    "df.head(n=2)"
   ]
  },
  {
   "cell_type": "code",
   "execution_count": 157,
   "metadata": {},
   "outputs": [
    {
     "data": {
      "text/plain": [
       "{0: 'F', 1: 'M'}"
      ]
     },
     "execution_count": 157,
     "metadata": {},
     "output_type": "execute_result"
    }
   ],
   "source": [
    "Sex_list = np.unique(df['Sex'].values).tolist()\n",
    "Sex_dict, anti_Sex_dict = {},{}\n",
    "for (item, index) in enumerate(Sex_list):\n",
    "    Sex_dict[index] = item\n",
    "    anti_Sex_dict[item] = index\n",
    "\n",
    "anti_Sex_dict"
   ]
  },
  {
   "cell_type": "code",
   "execution_count": 158,
   "metadata": {},
   "outputs": [],
   "source": [
    "#changer le tyep de 'Sex'\n",
    "def obj2num_Sex(Sex):\n",
    "    changer = Sex_dict\n",
    "    return changer[Sex]\n",
    "df['Sex']=df['Sex'].apply(obj2num_Sex)"
   ]
  },
  {
   "cell_type": "code",
   "execution_count": 159,
   "metadata": {},
   "outputs": [
    {
     "data": {
      "text/html": [
       "<div>\n",
       "<style scoped>\n",
       "    .dataframe tbody tr th:only-of-type {\n",
       "        vertical-align: middle;\n",
       "    }\n",
       "\n",
       "    .dataframe tbody tr th {\n",
       "        vertical-align: top;\n",
       "    }\n",
       "\n",
       "    .dataframe thead th {\n",
       "        text-align: right;\n",
       "    }\n",
       "</style>\n",
       "<table border=\"1\" class=\"dataframe\">\n",
       "  <thead>\n",
       "    <tr style=\"text-align: right;\">\n",
       "      <th></th>\n",
       "      <th>Credit</th>\n",
       "      <th>Partenaire</th>\n",
       "      <th>Durée_du_crédit</th>\n",
       "      <th>Type_de_produit</th>\n",
       "      <th>Montant_du_crédit</th>\n",
       "      <th>Montant_du_renouvelable</th>\n",
       "      <th>Situation_familliale</th>\n",
       "      <th>Nombre_enfant</th>\n",
       "      <th>Contrat_de_travail</th>\n",
       "      <th>Profession</th>\n",
       "      <th>Situation_logement</th>\n",
       "      <th>Sex</th>\n",
       "      <th>Age</th>\n",
       "      <th>Revenu</th>\n",
       "    </tr>\n",
       "  </thead>\n",
       "  <tbody>\n",
       "    <tr>\n",
       "      <th>0</th>\n",
       "      <td>1</td>\n",
       "      <td>7</td>\n",
       "      <td>30.0</td>\n",
       "      <td>1</td>\n",
       "      <td>0.00</td>\n",
       "      <td>1000.00</td>\n",
       "      <td>3</td>\n",
       "      <td>1.0</td>\n",
       "      <td>2</td>\n",
       "      <td>3</td>\n",
       "      <td>0</td>\n",
       "      <td>0</td>\n",
       "      <td>39.0</td>\n",
       "      <td>1400.0</td>\n",
       "    </tr>\n",
       "    <tr>\n",
       "      <th>1</th>\n",
       "      <td>1</td>\n",
       "      <td>7</td>\n",
       "      <td>33.0</td>\n",
       "      <td>1</td>\n",
       "      <td>0.00</td>\n",
       "      <td>1000.00</td>\n",
       "      <td>0</td>\n",
       "      <td>2.0</td>\n",
       "      <td>0</td>\n",
       "      <td>1</td>\n",
       "      <td>0</td>\n",
       "      <td>0</td>\n",
       "      <td>52.0</td>\n",
       "      <td>2000.0</td>\n",
       "    </tr>\n",
       "    <tr>\n",
       "      <th>2</th>\n",
       "      <td>1</td>\n",
       "      <td>8</td>\n",
       "      <td>30.0</td>\n",
       "      <td>1</td>\n",
       "      <td>0.00</td>\n",
       "      <td>1000.00</td>\n",
       "      <td>0</td>\n",
       "      <td>0.0</td>\n",
       "      <td>2</td>\n",
       "      <td>3</td>\n",
       "      <td>3</td>\n",
       "      <td>1</td>\n",
       "      <td>21.0</td>\n",
       "      <td>750.0</td>\n",
       "    </tr>\n",
       "    <tr>\n",
       "      <th>3</th>\n",
       "      <td>1</td>\n",
       "      <td>8</td>\n",
       "      <td>4.0</td>\n",
       "      <td>1</td>\n",
       "      <td>122.58</td>\n",
       "      <td>3000.00</td>\n",
       "      <td>6</td>\n",
       "      <td>0.0</td>\n",
       "      <td>4</td>\n",
       "      <td>7</td>\n",
       "      <td>4</td>\n",
       "      <td>0</td>\n",
       "      <td>83.0</td>\n",
       "      <td>1600.0</td>\n",
       "    </tr>\n",
       "    <tr>\n",
       "      <th>4</th>\n",
       "      <td>1</td>\n",
       "      <td>2</td>\n",
       "      <td>15.0</td>\n",
       "      <td>0</td>\n",
       "      <td>499.99</td>\n",
       "      <td>499.99</td>\n",
       "      <td>0</td>\n",
       "      <td>0.0</td>\n",
       "      <td>2</td>\n",
       "      <td>5</td>\n",
       "      <td>1</td>\n",
       "      <td>1</td>\n",
       "      <td>41.0</td>\n",
       "      <td>1400.0</td>\n",
       "    </tr>\n",
       "  </tbody>\n",
       "</table>\n",
       "</div>"
      ],
      "text/plain": [
       "   Credit  Partenaire  Durée_du_crédit  Type_de_produit  Montant_du_crédit  \\\n",
       "0       1           7             30.0                1               0.00   \n",
       "1       1           7             33.0                1               0.00   \n",
       "2       1           8             30.0                1               0.00   \n",
       "3       1           8              4.0                1             122.58   \n",
       "4       1           2             15.0                0             499.99   \n",
       "\n",
       "   Montant_du_renouvelable  Situation_familliale  Nombre_enfant  \\\n",
       "0                  1000.00                     3            1.0   \n",
       "1                  1000.00                     0            2.0   \n",
       "2                  1000.00                     0            0.0   \n",
       "3                  3000.00                     6            0.0   \n",
       "4                   499.99                     0            0.0   \n",
       "\n",
       "   Contrat_de_travail  Profession  Situation_logement  Sex   Age  Revenu  \n",
       "0                   2           3                   0    0  39.0  1400.0  \n",
       "1                   0           1                   0    0  52.0  2000.0  \n",
       "2                   2           3                   3    1  21.0   750.0  \n",
       "3                   4           7                   4    0  83.0  1600.0  \n",
       "4                   2           5                   1    1  41.0  1400.0  "
      ]
     },
     "execution_count": 159,
     "metadata": {},
     "output_type": "execute_result"
    }
   ],
   "source": [
    "df.head()"
   ]
  },
  {
   "cell_type": "code",
   "execution_count": null,
   "metadata": {},
   "outputs": [],
   "source": []
  },
  {
   "cell_type": "code",
   "execution_count": 160,
   "metadata": {},
   "outputs": [
    {
     "data": {
      "text/plain": [
       "<matplotlib.axes._subplots.AxesSubplot at 0x1a2168f208>"
      ]
     },
     "execution_count": 160,
     "metadata": {},
     "output_type": "execute_result"
    },
    {
     "data": {
      "image/png": "[encoded data removed]",
      "text/plain": [
       "<Figure size 432x288 with 1 Axes>"
      ]
     },
     "metadata": {
      "needs_background": "light"
     },
     "output_type": "display_data"
    }
   ],
   "source": [
    "# traitement des valeurs aberrents des variables quantitatives\n",
    "# \n",
    "df['Durée_du_crédit'].plot(kind ='box',grid = True)"
   ]
  },
  {
   "cell_type": "code",
   "execution_count": null,
   "metadata": {},
   "outputs": [],
   "source": []
  },
  {
   "cell_type": "code",
   "execution_count": 161,
   "metadata": {},
   "outputs": [
    {
     "data": {
      "text/plain": [
       "<matplotlib.axes._subplots.AxesSubplot at 0x1a21b207f0>"
      ]
     },
     "execution_count": 161,
     "metadata": {},
     "output_type": "execute_result"
    },
    {
     "data": {
      "image/png": "[encoded data removed]",
      "text/plain": [
       "<Figure size 432x288 with 1 Axes>"
      ]
     },
     "metadata": {
      "needs_background": "light"
     },
     "output_type": "display_data"
    }
   ],
   "source": [
    "df['Montant_du_crédit'].plot.box(grid = True)"
   ]
  },
  {
   "cell_type": "code",
   "execution_count": 162,
   "metadata": {},
   "outputs": [
    {
     "data": {
      "text/plain": [
       "<matplotlib.axes._subplots.AxesSubplot at 0x1a2bdf1588>"
      ]
     },
     "execution_count": 162,
     "metadata": {},
     "output_type": "execute_result"
    },
    {
     "data": {
      "image/png": "[encoded data removed]",
      "text/plain": [
       "<Figure size 432x288 with 1 Axes>"
      ]
     },
     "metadata": {
      "needs_background": "light"
     },
     "output_type": "display_data"
    }
   ],
   "source": [
    "df['Montant_du_renouvelable'].plot.box(grid = True)"
   ]
  },
  {
   "cell_type": "code",
   "execution_count": 163,
   "metadata": {},
   "outputs": [
    {
     "data": {
      "text/plain": [
       "<matplotlib.axes._subplots.AxesSubplot at 0x1a2a858748>"
      ]
     },
     "execution_count": 163,
     "metadata": {},
     "output_type": "execute_result"
    },
    {
     "data": {
      "image/png": "[encoded data removed]",
      "text/plain": [
       "<Figure size 432x288 with 1 Axes>"
      ]
     },
     "metadata": {
      "needs_background": "light"
     },
     "output_type": "display_data"
    }
   ],
   "source": [
    "df['Age'].plot.box(grid = True)"
   ]
  },
  {
   "cell_type": "code",
   "execution_count": 164,
   "metadata": {},
   "outputs": [
    {
     "data": {
      "text/plain": [
       "array([39., 52., 21., 83., 41., 33., 26., 55., 60., 51., 22., 50., 20.,\n",
       "       53., 45., 67., 30., 59., 54., 48., 62., 29., 69., 58., 27., 70.,\n",
       "       63., 71., 37., 23., 42., 44., 25., 68., 56., 19., 24., 61., 57.,\n",
       "       32., 34., 49., 36., 43., 64., 46., 72., 65., 31., 28., 81., 47.,\n",
       "       38., 35., 40., 75., 82., 79., 91., 78., 73., 66., 89., 77., 80.,\n",
       "       18., 74., 76., 88., 84., 87., 86., 85., 90., 92., 94., 97., 95.,\n",
       "       93., 96.])"
      ]
     },
     "execution_count": 164,
     "metadata": {},
     "output_type": "execute_result"
    }
   ],
   "source": [
    "df = df[df[\"Age\"] < 100]\n",
    "df['Age'].unique()"
   ]
  },
  {
   "cell_type": "code",
   "execution_count": 165,
   "metadata": {},
   "outputs": [
    {
     "data": {
      "text/plain": [
       "<matplotlib.axes._subplots.AxesSubplot at 0x1a2b31def0>"
      ]
     },
     "execution_count": 165,
     "metadata": {},
     "output_type": "execute_result"
    },
    {
     "data": {
      "image/png": "[encoded data removed]",
      "text/plain": [
       "<Figure size 432x288 with 1 Axes>"
      ]
     },
     "metadata": {
      "needs_background": "light"
     },
     "output_type": "display_data"
    }
   ],
   "source": [
    "df['Revenu'].plot.box(grid = True)"
   ]
  },
  {
   "cell_type": "code",
   "execution_count": 166,
   "metadata": {},
   "outputs": [],
   "source": [
    "df = df[df[\"Revenu\"] < 100000]\n",
    "\n",
    "df.shape\n",
    "df.to_csv('/Users/xudawei/Desktop/Dash/Credit的副本/data/CleanData.csv', index=False)\n"
   ]
  },
  {
   "cell_type": "code",
   "execution_count": 167,
   "metadata": {},
   "outputs": [],
   "source": [
    "# Au total, 5 valeurs aberrantes ont été supprimées"
   ]
  },
  {
   "cell_type": "code",
   "execution_count": 168,
   "metadata": {},
   "outputs": [
    {
     "data": {
      "text/html": [
       "<div>\n",
       "<style scoped>\n",
       "    .dataframe tbody tr th:only-of-type {\n",
       "        vertical-align: middle;\n",
       "    }\n",
       "\n",
       "    .dataframe tbody tr th {\n",
       "        vertical-align: top;\n",
       "    }\n",
       "\n",
       "    .dataframe thead th {\n",
       "        text-align: right;\n",
       "    }\n",
       "</style>\n",
       "<table border=\"1\" class=\"dataframe\">\n",
       "  <thead>\n",
       "    <tr style=\"text-align: right;\">\n",
       "      <th></th>\n",
       "      <th>count</th>\n",
       "      <th>mean</th>\n",
       "      <th>std</th>\n",
       "      <th>min</th>\n",
       "      <th>25%</th>\n",
       "      <th>50%</th>\n",
       "      <th>75%</th>\n",
       "      <th>max</th>\n",
       "      <th>missing_rate</th>\n",
       "    </tr>\n",
       "  </thead>\n",
       "  <tbody>\n",
       "    <tr>\n",
       "      <th>Credit</th>\n",
       "      <td>64785.0</td>\n",
       "      <td>0.988686</td>\n",
       "      <td>0.105766</td>\n",
       "      <td>0.0</td>\n",
       "      <td>1.00</td>\n",
       "      <td>1.00</td>\n",
       "      <td>1.0</td>\n",
       "      <td>1.0</td>\n",
       "      <td>0.0</td>\n",
       "    </tr>\n",
       "    <tr>\n",
       "      <th>Partenaire</th>\n",
       "      <td>64785.0</td>\n",
       "      <td>5.069430</td>\n",
       "      <td>2.902858</td>\n",
       "      <td>0.0</td>\n",
       "      <td>2.00</td>\n",
       "      <td>6.00</td>\n",
       "      <td>8.0</td>\n",
       "      <td>8.0</td>\n",
       "      <td>0.0</td>\n",
       "    </tr>\n",
       "    <tr>\n",
       "      <th>Durée_du_crédit</th>\n",
       "      <td>64785.0</td>\n",
       "      <td>9.226827</td>\n",
       "      <td>7.624030</td>\n",
       "      <td>0.0</td>\n",
       "      <td>4.00</td>\n",
       "      <td>5.00</td>\n",
       "      <td>12.0</td>\n",
       "      <td>48.0</td>\n",
       "      <td>0.0</td>\n",
       "    </tr>\n",
       "    <tr>\n",
       "      <th>Type_de_produit</th>\n",
       "      <td>64785.0</td>\n",
       "      <td>0.405804</td>\n",
       "      <td>0.491051</td>\n",
       "      <td>0.0</td>\n",
       "      <td>0.00</td>\n",
       "      <td>0.00</td>\n",
       "      <td>1.0</td>\n",
       "      <td>1.0</td>\n",
       "      <td>0.0</td>\n",
       "    </tr>\n",
       "    <tr>\n",
       "      <th>Montant_du_crédit</th>\n",
       "      <td>64785.0</td>\n",
       "      <td>634.694273</td>\n",
       "      <td>551.400672</td>\n",
       "      <td>0.0</td>\n",
       "      <td>304.95</td>\n",
       "      <td>485.99</td>\n",
       "      <td>750.0</td>\n",
       "      <td>6000.0</td>\n",
       "      <td>0.0</td>\n",
       "    </tr>\n",
       "    <tr>\n",
       "      <th>Montant_du_renouvelable</th>\n",
       "      <td>64785.0</td>\n",
       "      <td>1401.249497</td>\n",
       "      <td>965.489389</td>\n",
       "      <td>100.0</td>\n",
       "      <td>532.99</td>\n",
       "      <td>1041.76</td>\n",
       "      <td>2000.0</td>\n",
       "      <td>6000.0</td>\n",
       "      <td>0.0</td>\n",
       "    </tr>\n",
       "    <tr>\n",
       "      <th>Situation_familliale</th>\n",
       "      <td>64785.0</td>\n",
       "      <td>2.124365</td>\n",
       "      <td>1.621913</td>\n",
       "      <td>0.0</td>\n",
       "      <td>0.00</td>\n",
       "      <td>3.00</td>\n",
       "      <td>3.0</td>\n",
       "      <td>6.0</td>\n",
       "      <td>0.0</td>\n",
       "    </tr>\n",
       "    <tr>\n",
       "      <th>Nombre_enfant</th>\n",
       "      <td>64785.0</td>\n",
       "      <td>0.751455</td>\n",
       "      <td>1.093408</td>\n",
       "      <td>0.0</td>\n",
       "      <td>0.00</td>\n",
       "      <td>0.00</td>\n",
       "      <td>1.0</td>\n",
       "      <td>10.0</td>\n",
       "      <td>0.0</td>\n",
       "    </tr>\n",
       "    <tr>\n",
       "      <th>Contrat_de_travail</th>\n",
       "      <td>64785.0</td>\n",
       "      <td>2.463410</td>\n",
       "      <td>0.935163</td>\n",
       "      <td>0.0</td>\n",
       "      <td>2.00</td>\n",
       "      <td>2.00</td>\n",
       "      <td>4.0</td>\n",
       "      <td>4.0</td>\n",
       "      <td>0.0</td>\n",
       "    </tr>\n",
       "    <tr>\n",
       "      <th>Profession</th>\n",
       "      <td>64785.0</td>\n",
       "      <td>4.696319</td>\n",
       "      <td>1.915322</td>\n",
       "      <td>0.0</td>\n",
       "      <td>3.00</td>\n",
       "      <td>5.00</td>\n",
       "      <td>6.0</td>\n",
       "      <td>8.0</td>\n",
       "      <td>0.0</td>\n",
       "    </tr>\n",
       "    <tr>\n",
       "      <th>Situation_logement</th>\n",
       "      <td>64785.0</td>\n",
       "      <td>1.863919</td>\n",
       "      <td>1.587240</td>\n",
       "      <td>0.0</td>\n",
       "      <td>1.00</td>\n",
       "      <td>1.00</td>\n",
       "      <td>4.0</td>\n",
       "      <td>4.0</td>\n",
       "      <td>0.0</td>\n",
       "    </tr>\n",
       "    <tr>\n",
       "      <th>Sex</th>\n",
       "      <td>64785.0</td>\n",
       "      <td>0.502308</td>\n",
       "      <td>0.499999</td>\n",
       "      <td>0.0</td>\n",
       "      <td>0.00</td>\n",
       "      <td>1.00</td>\n",
       "      <td>1.0</td>\n",
       "      <td>1.0</td>\n",
       "      <td>0.0</td>\n",
       "    </tr>\n",
       "    <tr>\n",
       "      <th>Age</th>\n",
       "      <td>64785.0</td>\n",
       "      <td>47.610928</td>\n",
       "      <td>16.149673</td>\n",
       "      <td>18.0</td>\n",
       "      <td>34.00</td>\n",
       "      <td>47.00</td>\n",
       "      <td>60.0</td>\n",
       "      <td>97.0</td>\n",
       "      <td>0.0</td>\n",
       "    </tr>\n",
       "    <tr>\n",
       "      <th>Revenu</th>\n",
       "      <td>64785.0</td>\n",
       "      <td>1958.536927</td>\n",
       "      <td>1783.960744</td>\n",
       "      <td>0.0</td>\n",
       "      <td>1300.00</td>\n",
       "      <td>1600.00</td>\n",
       "      <td>2100.0</td>\n",
       "      <td>66000.0</td>\n",
       "      <td>0.0</td>\n",
       "    </tr>\n",
       "  </tbody>\n",
       "</table>\n",
       "</div>"
      ],
      "text/plain": [
       "                           count         mean          std    min      25%  \\\n",
       "Credit                   64785.0     0.988686     0.105766    0.0     1.00   \n",
       "Partenaire               64785.0     5.069430     2.902858    0.0     2.00   \n",
       "Durée_du_crédit          64785.0     9.226827     7.624030    0.0     4.00   \n",
       "Type_de_produit          64785.0     0.405804     0.491051    0.0     0.00   \n",
       "Montant_du_crédit        64785.0   634.694273   551.400672    0.0   304.95   \n",
       "Montant_du_renouvelable  64785.0  1401.249497   965.489389  100.0   532.99   \n",
       "Situation_familliale     64785.0     2.124365     1.621913    0.0     0.00   \n",
       "Nombre_enfant            64785.0     0.751455     1.093408    0.0     0.00   \n",
       "Contrat_de_travail       64785.0     2.463410     0.935163    0.0     2.00   \n",
       "Profession               64785.0     4.696319     1.915322    0.0     3.00   \n",
       "Situation_logement       64785.0     1.863919     1.587240    0.0     1.00   \n",
       "Sex                      64785.0     0.502308     0.499999    0.0     0.00   \n",
       "Age                      64785.0    47.610928    16.149673   18.0    34.00   \n",
       "Revenu                   64785.0  1958.536927  1783.960744    0.0  1300.00   \n",
       "\n",
       "                             50%     75%      max  missing_rate  \n",
       "Credit                      1.00     1.0      1.0           0.0  \n",
       "Partenaire                  6.00     8.0      8.0           0.0  \n",
       "Durée_du_crédit             5.00    12.0     48.0           0.0  \n",
       "Type_de_produit             0.00     1.0      1.0           0.0  \n",
       "Montant_du_crédit         485.99   750.0   6000.0           0.0  \n",
       "Montant_du_renouvelable  1041.76  2000.0   6000.0           0.0  \n",
       "Situation_familliale        3.00     3.0      6.0           0.0  \n",
       "Nombre_enfant               0.00     1.0     10.0           0.0  \n",
       "Contrat_de_travail          2.00     4.0      4.0           0.0  \n",
       "Profession                  5.00     6.0      8.0           0.0  \n",
       "Situation_logement          1.00     4.0      4.0           0.0  \n",
       "Sex                         1.00     1.0      1.0           0.0  \n",
       "Age                        47.00    60.0     97.0           0.0  \n",
       "Revenu                   1600.00  2100.0  66000.0           0.0  "
      ]
     },
     "execution_count": 168,
     "metadata": {},
     "output_type": "execute_result"
    }
   ],
   "source": [
    "df.describe().T.assign(missing_rate = df.apply(lambda x : (len(x)-x.count())/float(len(x))))"
   ]
  },
  {
   "cell_type": "code",
   "execution_count": 169,
   "metadata": {},
   "outputs": [],
   "source": [
    "from sklearn.model_selection import train_test_split\n",
    "\n"
   ]
  },
  {
   "cell_type": "code",
   "execution_count": 170,
   "metadata": {},
   "outputs": [],
   "source": [
    "# l'échantillon d'apprentissage : l'échantillon test = 7:3\n",
    "Y = df[\"Credit\"]\n",
    "X = df.iloc[:, 1:]\n",
    "\n",
    "X_train, X_test, Y_train, Y_test = train_test_split(X, Y, test_size=0.3, random_state=123)\n",
    "\n",
    "train = pd.concat([Y_train, X_train], axis=1)\n",
    "test = pd.concat([Y_test, X_test], axis=1)\n",
    "\n",
    "train.to_csv('/Users/xudawei/Desktop/Dash/Credit的副本/data/TrainData.csv',index=False)\n",
    "test.to_csv('/Users/xudawei/Desktop/Dash/Credit的副本/data/TestData.csv',index=False)"
   ]
  },
  {
   "cell_type": "code",
   "execution_count": 171,
   "metadata": {},
   "outputs": [],
   "source": [
    "import scipy.stats.stats as stats\n",
    "\n",
    "# 自定义自动分箱函数\n",
    "def mono_bin(Y, X, n=20):\n",
    "    r = 0\n",
    "    good = Y.sum()\n",
    "    bad = Y.count() - good\n",
    "    while np.abs(r) < 1:\n",
    "        d1 = pd.DataFrame({\"X\": X, \"Y\": Y, \"Bucket\": pd.qcut(X.rank(method=\"first\"), n)}) # X.rank(method=\"first\")\n",
    "        d2 = d1.groupby(\"Bucket\", as_index = True)\n",
    "        r, p = stats.spearmanr(d2.mean().X, d2.mean().Y) # 使用斯皮尔曼等级相关系数来评估两个变量之间的相关性\n",
    "        n = n - 1\n",
    "    d3 = pd.DataFrame(d2.X.min(), columns = ['min'])\n",
    "    d3['min']=d2.min().X\n",
    "    d3['max'] = d2.max().X\n",
    "    d3['sum'] = d2.sum().Y\n",
    "    d3['total'] = d2.count().Y\n",
    "    d3['rate'] = d2.mean().Y\n",
    "    d3['woe'] = np.log((d3['rate'] / (1-d3['rate'])) / (good/bad))\n",
    "    d3['goodattribute'] = d3['sum'] / good\n",
    "    d3['badattribute'] = (d3['total'] - d3['sum']) / bad\n",
    "    iv = ((d3['goodattribute'] - d3['badattribute']) * d3['woe']).sum()\n",
    "    d4 = (d3.sort_values(by = 'min'))\n",
    "    print(d4)\n",
    "    cut=[]\n",
    "    cut.append(float('-inf'))\n",
    "    for i in range(1, n+1):\n",
    "        qua = X.quantile(i/(n+1))\n",
    "        cut.append(round(qua,4))\n",
    "    cut.append(float('inf'))\n",
    "    woe = list(d4['woe'].round(3))\n",
    "    return d4, iv, cut, woe\n",
    "\n"
   ]
  },
  {
   "cell_type": "code",
   "execution_count": 172,
   "metadata": {},
   "outputs": [
    {
     "data": {
      "text/html": [
       "<div>\n",
       "<style scoped>\n",
       "    .dataframe tbody tr th:only-of-type {\n",
       "        vertical-align: middle;\n",
       "    }\n",
       "\n",
       "    .dataframe tbody tr th {\n",
       "        vertical-align: top;\n",
       "    }\n",
       "\n",
       "    .dataframe thead th {\n",
       "        text-align: right;\n",
       "    }\n",
       "</style>\n",
       "<table border=\"1\" class=\"dataframe\">\n",
       "  <thead>\n",
       "    <tr style=\"text-align: right;\">\n",
       "      <th></th>\n",
       "      <th>Credit</th>\n",
       "      <th>Partenaire</th>\n",
       "      <th>Durée_du_crédit</th>\n",
       "      <th>Type_de_produit</th>\n",
       "      <th>Montant_du_crédit</th>\n",
       "      <th>Montant_du_renouvelable</th>\n",
       "      <th>Situation_familliale</th>\n",
       "      <th>Nombre_enfant</th>\n",
       "      <th>Contrat_de_travail</th>\n",
       "      <th>Profession</th>\n",
       "      <th>Situation_logement</th>\n",
       "      <th>Sex</th>\n",
       "      <th>Age</th>\n",
       "      <th>Revenu</th>\n",
       "    </tr>\n",
       "  </thead>\n",
       "  <tbody>\n",
       "    <tr>\n",
       "      <th>5512</th>\n",
       "      <td>1</td>\n",
       "      <td>8</td>\n",
       "      <td>4.0</td>\n",
       "      <td>1</td>\n",
       "      <td>422.16</td>\n",
       "      <td>2000.00</td>\n",
       "      <td>2</td>\n",
       "      <td>1.0</td>\n",
       "      <td>2</td>\n",
       "      <td>6</td>\n",
       "      <td>4</td>\n",
       "      <td>0</td>\n",
       "      <td>44.0</td>\n",
       "      <td>2000.0</td>\n",
       "    </tr>\n",
       "    <tr>\n",
       "      <th>6554</th>\n",
       "      <td>1</td>\n",
       "      <td>8</td>\n",
       "      <td>1.0</td>\n",
       "      <td>1</td>\n",
       "      <td>486.48</td>\n",
       "      <td>2000.00</td>\n",
       "      <td>3</td>\n",
       "      <td>0.0</td>\n",
       "      <td>4</td>\n",
       "      <td>7</td>\n",
       "      <td>4</td>\n",
       "      <td>1</td>\n",
       "      <td>68.0</td>\n",
       "      <td>1800.0</td>\n",
       "    </tr>\n",
       "    <tr>\n",
       "      <th>21337</th>\n",
       "      <td>1</td>\n",
       "      <td>8</td>\n",
       "      <td>4.0</td>\n",
       "      <td>1</td>\n",
       "      <td>284.76</td>\n",
       "      <td>3000.00</td>\n",
       "      <td>1</td>\n",
       "      <td>3.0</td>\n",
       "      <td>2</td>\n",
       "      <td>6</td>\n",
       "      <td>1</td>\n",
       "      <td>0</td>\n",
       "      <td>47.0</td>\n",
       "      <td>1600.0</td>\n",
       "    </tr>\n",
       "    <tr>\n",
       "      <th>19270</th>\n",
       "      <td>1</td>\n",
       "      <td>8</td>\n",
       "      <td>10.0</td>\n",
       "      <td>0</td>\n",
       "      <td>1009.89</td>\n",
       "      <td>1009.89</td>\n",
       "      <td>3</td>\n",
       "      <td>3.0</td>\n",
       "      <td>2</td>\n",
       "      <td>2</td>\n",
       "      <td>0</td>\n",
       "      <td>1</td>\n",
       "      <td>44.0</td>\n",
       "      <td>3200.0</td>\n",
       "    </tr>\n",
       "    <tr>\n",
       "      <th>9349</th>\n",
       "      <td>1</td>\n",
       "      <td>8</td>\n",
       "      <td>4.0</td>\n",
       "      <td>0</td>\n",
       "      <td>123.76</td>\n",
       "      <td>123.76</td>\n",
       "      <td>3</td>\n",
       "      <td>4.0</td>\n",
       "      <td>2</td>\n",
       "      <td>3</td>\n",
       "      <td>1</td>\n",
       "      <td>0</td>\n",
       "      <td>41.0</td>\n",
       "      <td>1200.0</td>\n",
       "    </tr>\n",
       "  </tbody>\n",
       "</table>\n",
       "</div>"
      ],
      "text/plain": [
       "       Credit  Partenaire  Durée_du_crédit  Type_de_produit  \\\n",
       "5512        1           8              4.0                1   \n",
       "6554        1           8              1.0                1   \n",
       "21337       1           8              4.0                1   \n",
       "19270       1           8             10.0                0   \n",
       "9349        1           8              4.0                0   \n",
       "\n",
       "       Montant_du_crédit  Montant_du_renouvelable  Situation_familliale  \\\n",
       "5512              422.16                  2000.00                     2   \n",
       "6554              486.48                  2000.00                     3   \n",
       "21337             284.76                  3000.00                     1   \n",
       "19270            1009.89                  1009.89                     3   \n",
       "9349              123.76                   123.76                     3   \n",
       "\n",
       "       Nombre_enfant  Contrat_de_travail  Profession  Situation_logement  Sex  \\\n",
       "5512             1.0                   2           6                   4    0   \n",
       "6554             0.0                   4           7                   4    1   \n",
       "21337            3.0                   2           6                   1    0   \n",
       "19270            3.0                   2           2                   0    1   \n",
       "9349             4.0                   2           3                   1    0   \n",
       "\n",
       "        Age  Revenu  \n",
       "5512   44.0  2000.0  \n",
       "6554   68.0  1800.0  \n",
       "21337  47.0  1600.0  \n",
       "19270  44.0  3200.0  \n",
       "9349   41.0  1200.0  "
      ]
     },
     "execution_count": 172,
     "metadata": {},
     "output_type": "execute_result"
    }
   ],
   "source": [
    "train.head()\n"
   ]
  },
  {
   "cell_type": "code",
   "execution_count": 173,
   "metadata": {},
   "outputs": [
    {
     "name": "stdout",
     "output_type": "stream",
     "text": [
      "                    min  max    sum  total      rate       woe  goodattribute  \\\n",
      "Bucket                                                                          \n",
      "(0.999, 15117.0]      0    2  14878  15117  0.984190 -0.371358       0.331713   \n",
      "(15117.0, 30233.0]    2    8  14968  15116  0.990209  0.113924       0.333720   \n",
      "(30233.0, 45349.0]    8    8  15006  15116  0.992723  0.413192       0.334567   \n",
      "\n",
      "                    badattribute  \n",
      "Bucket                            \n",
      "(0.999, 15117.0]        0.480885  \n",
      "(15117.0, 30233.0]      0.297787  \n",
      "(30233.0, 45349.0]      0.221328  \n"
     ]
    }
   ],
   "source": [
    "dfx1, ivx1, cutx1, woex1 = mono_bin(train.Credit, train.Partenaire, n=13)\n",
    "\n"
   ]
  },
  {
   "cell_type": "code",
   "execution_count": 174,
   "metadata": {},
   "outputs": [
    {
     "name": "stdout",
     "output_type": "stream",
     "text": [
      "                     min   max    sum  total      rate       woe  \\\n",
      "Bucket                                                             \n",
      "(0.999, 11338.0]     0.0   4.0  11284  11338  0.995237  0.839624   \n",
      "(11338.0, 22675.0]   4.0   5.0  11267  11337  0.993826  0.578605   \n",
      "(22675.0, 34012.0]   5.0  12.0  11185  11337  0.986593 -0.204085   \n",
      "(34012.0, 45349.0]  12.0  48.0  11116  11337  0.980506 -0.584555   \n",
      "\n",
      "                    goodattribute  badattribute  \n",
      "Bucket                                           \n",
      "(0.999, 11338.0]         0.251583      0.108652  \n",
      "(11338.0, 22675.0]       0.251204      0.140845  \n",
      "(22675.0, 34012.0]       0.249376      0.305835  \n",
      "(34012.0, 45349.0]       0.247837      0.444668  \n"
     ]
    }
   ],
   "source": [
    "dfx2, ivx2, cutx2, woex2 = mono_bin(train.Credit, train.Durée_du_crédit, n=13)"
   ]
  },
  {
   "cell_type": "code",
   "execution_count": 175,
   "metadata": {},
   "outputs": [
    {
     "name": "stdout",
     "output_type": "stream",
     "text": [
      "                    min  max    sum  total      rate       woe  goodattribute  \\\n",
      "Bucket                                                                          \n",
      "(0.999, 15117.0]      0    0  14906  15117  0.986042 -0.244872       0.332337   \n",
      "(15117.0, 30233.0]    0    1  14948  15116  0.988886 -0.014165       0.333274   \n",
      "(30233.0, 45349.0]    1    1  14998  15116  0.992194  0.342454       0.334389   \n",
      "\n",
      "                    badattribute  \n",
      "Bucket                            \n",
      "(0.999, 15117.0]        0.424547  \n",
      "(15117.0, 30233.0]      0.338028  \n",
      "(30233.0, 45349.0]      0.237425  \n"
     ]
    }
   ],
   "source": [
    "dfx3, ivx3, cutx3, woex3 = mono_bin(train.Credit, train.Type_de_produit, n=13)"
   ]
  },
  {
   "cell_type": "code",
   "execution_count": 176,
   "metadata": {},
   "outputs": [
    {
     "name": "stdout",
     "output_type": "stream",
     "text": [
      "                       min      max    sum  total      rate       woe  \\\n",
      "Bucket                                                                  \n",
      "(0.999, 11338.0]      0.00   305.70  11268  11338  0.993826  0.578693   \n",
      "(11338.0, 22675.0]  305.71   487.56  11263  11337  0.993473  0.522680   \n",
      "(22675.0, 34012.0]  487.60   752.02  11253  11337  0.992591  0.395040   \n",
      "(34012.0, 45349.0]  752.16  5380.00  11068  11337  0.976272 -0.785431   \n",
      "\n",
      "                    goodattribute  badattribute  \n",
      "Bucket                                           \n",
      "(0.999, 11338.0]         0.251226      0.140845  \n",
      "(11338.0, 22675.0]       0.251115      0.148893  \n",
      "(22675.0, 34012.0]       0.250892      0.169014  \n",
      "(34012.0, 45349.0]       0.246767      0.541247  \n"
     ]
    }
   ],
   "source": [
    "dfx4, ivx4, cutx4, woex4 = mono_bin(train.Credit, train.Montant_du_crédit, n=13)"
   ]
  },
  {
   "cell_type": "code",
   "execution_count": 177,
   "metadata": {},
   "outputs": [
    {
     "name": "stdout",
     "output_type": "stream",
     "text": [
      "                    min     max    sum  total      rate           woe  \\\n",
      "Bucket                                                                  \n",
      "(0.999, 45349.0]  100.0  5380.0  44852  45349  0.989041 -4.996004e-15   \n",
      "\n",
      "                  goodattribute  badattribute  \n",
      "Bucket                                         \n",
      "(0.999, 45349.0]            1.0           1.0  \n"
     ]
    }
   ],
   "source": [
    "dfx5, ivx5, cutx5, woex5 = mono_bin(train.Credit, train.Montant_du_renouvelable, n=13)"
   ]
  },
  {
   "cell_type": "code",
   "execution_count": 178,
   "metadata": {},
   "outputs": [
    {
     "name": "stdout",
     "output_type": "stream",
     "text": [
      "                    min  max    sum  total      rate       woe  goodattribute  \\\n",
      "Bucket                                                                          \n",
      "(0.999, 11338.0]      0    0  11033  11338  0.973099 -0.914199       0.245987   \n",
      "(11338.0, 22675.0]    0    3  11212  11337  0.988974 -0.006107       0.249978   \n",
      "(22675.0, 34012.0]    3    3  11303  11337  0.997001  1.303929       0.252007   \n",
      "(34012.0, 45349.0]    3    6  11304  11337  0.997089  1.333871       0.252029   \n",
      "\n",
      "                    badattribute  \n",
      "Bucket                            \n",
      "(0.999, 11338.0]        0.613682  \n",
      "(11338.0, 22675.0]      0.251509  \n",
      "(22675.0, 34012.0]      0.068410  \n",
      "(34012.0, 45349.0]      0.066398  \n"
     ]
    }
   ],
   "source": [
    "dfx6, ivx6, cutx6, woex6 = mono_bin(train.Credit, train.Situation_familliale, n=13)"
   ]
  },
  {
   "cell_type": "code",
   "execution_count": 179,
   "metadata": {},
   "outputs": [
    {
     "name": "stdout",
     "output_type": "stream",
     "text": [
      "                    min   max    sum  total      rate       woe  \\\n",
      "Bucket                                                            \n",
      "(0.999, 15117.0]    0.0   0.0  14911  15117  0.986373 -0.220555   \n",
      "(15117.0, 30233.0]  0.0   1.0  14943  15116  0.988555 -0.043827   \n",
      "(30233.0, 45349.0]  1.0  10.0  14998  15116  0.992194  0.342454   \n",
      "\n",
      "                    goodattribute  badattribute  \n",
      "Bucket                                           \n",
      "(0.999, 15117.0]         0.332449      0.414487  \n",
      "(15117.0, 30233.0]       0.333162      0.348089  \n",
      "(30233.0, 45349.0]       0.334389      0.237425  \n"
     ]
    }
   ],
   "source": [
    "dfx7, ivx7, cutx7, woex7 = mono_bin(train.Credit, train.Nombre_enfant, n=13)"
   ]
  },
  {
   "cell_type": "code",
   "execution_count": 180,
   "metadata": {},
   "outputs": [
    {
     "name": "stdout",
     "output_type": "stream",
     "text": [
      "                    min  max    sum  total      rate       woe  goodattribute  \\\n",
      "Bucket                                                                          \n",
      "(0.999, 15117.0]      0    2  14905  15117  0.985976 -0.249668       0.332315   \n",
      "(15117.0, 30233.0]    2    2  14916  15116  0.986769 -0.190661       0.332560   \n",
      "(30233.0, 45349.0]    2    4  15031  15116  0.994377  0.672685       0.335124   \n",
      "\n",
      "                    badattribute  \n",
      "Bucket                            \n",
      "(0.999, 15117.0]        0.426559  \n",
      "(15117.0, 30233.0]      0.402414  \n",
      "(30233.0, 45349.0]      0.171026  \n"
     ]
    }
   ],
   "source": [
    "dfx8, ivx8, cutx8, woex8 = mono_bin(train.Credit, train.Contrat_de_travail, n=13)"
   ]
  },
  {
   "cell_type": "code",
   "execution_count": 181,
   "metadata": {},
   "outputs": [
    {
     "name": "stdout",
     "output_type": "stream",
     "text": [
      "                  min  max    sum  total      rate           woe  \\\n",
      "Bucket                                                             \n",
      "(0.999, 45349.0]    0    8  44852  45349  0.989041 -4.996004e-15   \n",
      "\n",
      "                  goodattribute  badattribute  \n",
      "Bucket                                         \n",
      "(0.999, 45349.0]            1.0           1.0  \n"
     ]
    }
   ],
   "source": [
    "dfx9, ivx9, cutx9, woex9 = mono_bin(train.Credit, train.Profession, n=13)"
   ]
  },
  {
   "cell_type": "code",
   "execution_count": 182,
   "metadata": {},
   "outputs": [
    {
     "name": "stdout",
     "output_type": "stream",
     "text": [
      "                  min  max    sum  total      rate           woe  \\\n",
      "Bucket                                                             \n",
      "(0.999, 45349.0]    0    4  44852  45349  0.989041 -4.996004e-15   \n",
      "\n",
      "                  goodattribute  badattribute  \n",
      "Bucket                                         \n",
      "(0.999, 45349.0]            1.0           1.0  \n"
     ]
    }
   ],
   "source": [
    "dfx10, ivx10, cutx10, woex10 = mono_bin(train.Credit, train.Situation_logement, n=13)"
   ]
  },
  {
   "cell_type": "code",
   "execution_count": 183,
   "metadata": {},
   "outputs": [
    {
     "name": "stdout",
     "output_type": "stream",
     "text": [
      "                  min  max    sum  total      rate           woe  \\\n",
      "Bucket                                                             \n",
      "(0.999, 45349.0]    0    1  44852  45349  0.989041 -4.996004e-15   \n",
      "\n",
      "                  goodattribute  badattribute  \n",
      "Bucket                                         \n",
      "(0.999, 45349.0]            1.0           1.0  \n"
     ]
    }
   ],
   "source": [
    "dfx11, ivx11, cutx11, woex11 = mono_bin(train.Credit, train.Sex, n=13)"
   ]
  },
  {
   "cell_type": "code",
   "execution_count": 184,
   "metadata": {},
   "outputs": [
    {
     "name": "stdout",
     "output_type": "stream",
     "text": [
      "                         min   max   sum  total      rate       woe  \\\n",
      "Bucket                                                                \n",
      "(0.999, 6479.286]       18.0  29.0  6256   6479  0.965581 -1.168409   \n",
      "(6479.286, 12957.571]   29.0  36.0  6378   6478  0.984563 -0.347094   \n",
      "(12957.571, 19435.857]  36.0  43.0  6426   6478  0.991973  0.314330   \n",
      "(19435.857, 25914.143]  43.0  50.0  6427   6479  0.991974  0.314486   \n",
      "(25914.143, 32392.429]  50.0  57.0  6442   6478  0.994443  0.684542   \n",
      "(32392.429, 38870.714]  57.0  66.0  6454   6478  0.996295  1.091868   \n",
      "(38870.714, 45349.0]    66.0  95.0  6469   6479  0.998457  1.969658   \n",
      "\n",
      "                        goodattribute  badattribute  \n",
      "Bucket                                               \n",
      "(0.999, 6479.286]            0.139481      0.448692  \n",
      "(6479.286, 12957.571]        0.142201      0.201207  \n",
      "(12957.571, 19435.857]       0.143271      0.104628  \n",
      "(19435.857, 25914.143]       0.143293      0.104628  \n",
      "(25914.143, 32392.429]       0.143628      0.072435  \n",
      "(32392.429, 38870.714]       0.143895      0.048290  \n",
      "(38870.714, 45349.0]         0.144230      0.020121  \n"
     ]
    }
   ],
   "source": [
    "dfx12, ivx12, cutx12, woex12 = mono_bin(train.Credit, train.Age, n=13)"
   ]
  },
  {
   "cell_type": "code",
   "execution_count": 185,
   "metadata": {},
   "outputs": [
    {
     "name": "stdout",
     "output_type": "stream",
     "text": [
      "                  min      max    sum  total      rate           woe  \\\n",
      "Bucket                                                                 \n",
      "(0.999, 45349.0]  0.0  62400.0  44852  45349  0.989041 -4.996004e-15   \n",
      "\n",
      "                  goodattribute  badattribute  \n",
      "Bucket                                         \n",
      "(0.999, 45349.0]            1.0           1.0  \n"
     ]
    }
   ],
   "source": [
    "dfx13, ivx13, cutx13, woex13 = mono_bin(train.Credit, train.Revenu, n=13)"
   ]
  },
  {
   "cell_type": "code",
   "execution_count": 186,
   "metadata": {},
   "outputs": [
    {
     "data": {
      "image/png": "[encoded data removed]",
      "text/plain": [
       "<Figure size 1080x576 with 2 Axes>"
      ]
     },
     "metadata": {
      "needs_background": "light"
     },
     "output_type": "display_data"
    }
   ],
   "source": [
    "# corrélation entre les variables de l'échantillon d'apprentissage\n",
    "corr = train.corr().round(3) \n",
    "\n",
    "xticks = ['x0','x1','x2','x3','x4','x5','x6','x7','x8','x9','x10','x11','x12','x13'] # labels of x axis \n",
    "yticks = list(corr.index) # label of y axis\n",
    "fig = plt.figure(figsize=(15, 8))\n",
    "ax = fig.add_subplot(1, 1, 1)\n",
    "sns.heatmap(corr, annot=True,cmap='rainbow', ax=ax,\n",
    "            annot_kws={'size': 12, 'weight': 'bold', 'color': 'blue'}) # Dessiner une carte thermique des coefficients de corrélation\n",
    "ax.set_xticklabels(xticks, rotation=0, fontsize=12)\n",
    "ax.set_yticklabels(yticks, rotation=0, fontsize=12)\n",
    "plt.show()"
   ]
  },
  {
   "cell_type": "code",
   "execution_count": 187,
   "metadata": {},
   "outputs": [],
   "source": [
    "# la corrélation entre les variables n'est pas très forte, sauf \n",
    "# Partenaire et Type_duproduit (0.46), Montant_du_renouvelable et Type_duproduit(0.76),\n",
    "# Profession et Contra_de_travail(0.67), Age et Contra_de_travail(0.72) , \n",
    "# Age et profession(0.48), Age et Situation_logement(0.42)\n",
    "\n"
   ]
  },
  {
   "cell_type": "code",
   "execution_count": 188,
   "metadata": {},
   "outputs": [
    {
     "data": {
      "image/png": "[encoded data removed]",
      "text/plain": [
       "<Figure size 576x576 with 1 Axes>"
      ]
     },
     "metadata": {
      "needs_background": "light"
     },
     "output_type": "display_data"
    }
   ],
   "source": [
    "#  IV valeurs\n",
    "ivlist = [ivx1, ivx2, ivx3, ivx4, ivx5, ivx6, ivx7, ivx8, ivx9, ivx10,ivx11,ivx12,ivx13] \n",
    "index = ['x1','x2','x3','x4','x5','x6','x7','x8','x9','x10','x11','x12','x13'] \n",
    "fig1 = plt.figure(figsize=(8, 8))\n",
    "ax1 = fig1.add_subplot(1, 1, 1)\n",
    "x = np.arange(len(index)) + 1\n",
    "ax1.bar(x, ivlist, width=0.4) # 生成柱状图\n",
    "ax1.set_xticks(x)\n",
    "ax1.set_xticklabels(index, rotation=0, fontsize=12)\n",
    "ax1.set_ylabel('IV(Information Value)', fontsize=12)\n",
    "# 在柱状图上添加数字标签\n",
    "for a, b in zip(x, ivlist):\n",
    "    plt.text(a, b + 0.01, '%.4f' % b, ha='center', va='bottom', fontsize=10)\n",
    "plt.show()"
   ]
  },
  {
   "cell_type": "code",
   "execution_count": 189,
   "metadata": {},
   "outputs": [],
   "source": [
    "# Le critère pour juger de la capacité prédictive d'une variable par la valeur IV est:\n",
    "\n",
    "\n",
    "#         < 0.02: unpredictive\n",
    "\n",
    "#           0.02 to 0.1: weak\n",
    "\n",
    "#           0.1 to 0.3: medium\n",
    "\n",
    "#           0.3 to 0.5: strong\n",
    "\n",
    "#           > 0.5: suspicious\n",
    "\n",
    "# par conséquent, \n",
    "# les variables Montant_du_renouvelable, Profession, Situation_logement, Sex et Revenu dont\n",
    "# IV valeurs sont évidemment faible\n"
   ]
  },
  {
   "cell_type": "code",
   "execution_count": 190,
   "metadata": {},
   "outputs": [],
   "source": [
    "\n",
    "\n",
    "# 替换成woe函数\n",
    "def replace_woe(series, cut, woe):\n",
    "    list = []\n",
    "    i = 0\n",
    "    while i < len(series):\n",
    "        value = series[i]\n",
    "        j = len(cut)-2\n",
    "        m = len(cut)-2\n",
    "        while j >= 0:\n",
    "            if value >= cut[j]:\n",
    "                j = -1\n",
    "            else:\n",
    "                j -= 1\n",
    "                m -= 1\n",
    "        list.append(woe[m])\n",
    "        i += 1\n",
    "    return list"
   ]
  },
  {
   "cell_type": "code",
   "execution_count": 191,
   "metadata": {},
   "outputs": [
    {
     "data": {
      "text/html": [
       "<div>\n",
       "<style scoped>\n",
       "    .dataframe tbody tr th:only-of-type {\n",
       "        vertical-align: middle;\n",
       "    }\n",
       "\n",
       "    .dataframe tbody tr th {\n",
       "        vertical-align: top;\n",
       "    }\n",
       "\n",
       "    .dataframe thead th {\n",
       "        text-align: right;\n",
       "    }\n",
       "</style>\n",
       "<table border=\"1\" class=\"dataframe\">\n",
       "  <thead>\n",
       "    <tr style=\"text-align: right;\">\n",
       "      <th></th>\n",
       "      <th>Credit</th>\n",
       "      <th>Partenaire</th>\n",
       "      <th>Durée_du_crédit</th>\n",
       "      <th>Type_de_produit</th>\n",
       "      <th>Montant_du_crédit</th>\n",
       "      <th>Montant_du_renouvelable</th>\n",
       "      <th>Situation_familliale</th>\n",
       "      <th>Nombre_enfant</th>\n",
       "      <th>Contrat_de_travail</th>\n",
       "      <th>Profession</th>\n",
       "      <th>Situation_logement</th>\n",
       "      <th>Sex</th>\n",
       "      <th>Age</th>\n",
       "      <th>Revenu</th>\n",
       "    </tr>\n",
       "  </thead>\n",
       "  <tbody>\n",
       "    <tr>\n",
       "      <th>0</th>\n",
       "      <td>1</td>\n",
       "      <td>8</td>\n",
       "      <td>4.0</td>\n",
       "      <td>1</td>\n",
       "      <td>422.16</td>\n",
       "      <td>2000.00</td>\n",
       "      <td>2</td>\n",
       "      <td>1.0</td>\n",
       "      <td>2</td>\n",
       "      <td>6</td>\n",
       "      <td>4</td>\n",
       "      <td>0</td>\n",
       "      <td>44.0</td>\n",
       "      <td>2000.0</td>\n",
       "    </tr>\n",
       "    <tr>\n",
       "      <th>1</th>\n",
       "      <td>1</td>\n",
       "      <td>8</td>\n",
       "      <td>1.0</td>\n",
       "      <td>1</td>\n",
       "      <td>486.48</td>\n",
       "      <td>2000.00</td>\n",
       "      <td>3</td>\n",
       "      <td>0.0</td>\n",
       "      <td>4</td>\n",
       "      <td>7</td>\n",
       "      <td>4</td>\n",
       "      <td>1</td>\n",
       "      <td>68.0</td>\n",
       "      <td>1800.0</td>\n",
       "    </tr>\n",
       "    <tr>\n",
       "      <th>2</th>\n",
       "      <td>1</td>\n",
       "      <td>8</td>\n",
       "      <td>4.0</td>\n",
       "      <td>1</td>\n",
       "      <td>284.76</td>\n",
       "      <td>3000.00</td>\n",
       "      <td>1</td>\n",
       "      <td>3.0</td>\n",
       "      <td>2</td>\n",
       "      <td>6</td>\n",
       "      <td>1</td>\n",
       "      <td>0</td>\n",
       "      <td>47.0</td>\n",
       "      <td>1600.0</td>\n",
       "    </tr>\n",
       "    <tr>\n",
       "      <th>3</th>\n",
       "      <td>1</td>\n",
       "      <td>8</td>\n",
       "      <td>10.0</td>\n",
       "      <td>0</td>\n",
       "      <td>1009.89</td>\n",
       "      <td>1009.89</td>\n",
       "      <td>3</td>\n",
       "      <td>3.0</td>\n",
       "      <td>2</td>\n",
       "      <td>2</td>\n",
       "      <td>0</td>\n",
       "      <td>1</td>\n",
       "      <td>44.0</td>\n",
       "      <td>3200.0</td>\n",
       "    </tr>\n",
       "    <tr>\n",
       "      <th>4</th>\n",
       "      <td>1</td>\n",
       "      <td>8</td>\n",
       "      <td>4.0</td>\n",
       "      <td>0</td>\n",
       "      <td>123.76</td>\n",
       "      <td>123.76</td>\n",
       "      <td>3</td>\n",
       "      <td>4.0</td>\n",
       "      <td>2</td>\n",
       "      <td>3</td>\n",
       "      <td>1</td>\n",
       "      <td>0</td>\n",
       "      <td>41.0</td>\n",
       "      <td>1200.0</td>\n",
       "    </tr>\n",
       "  </tbody>\n",
       "</table>\n",
       "</div>"
      ],
      "text/plain": [
       "   Credit  Partenaire  Durée_du_crédit  Type_de_produit  Montant_du_crédit  \\\n",
       "0       1           8              4.0                1             422.16   \n",
       "1       1           8              1.0                1             486.48   \n",
       "2       1           8              4.0                1             284.76   \n",
       "3       1           8             10.0                0            1009.89   \n",
       "4       1           8              4.0                0             123.76   \n",
       "\n",
       "   Montant_du_renouvelable  Situation_familliale  Nombre_enfant  \\\n",
       "0                  2000.00                     2            1.0   \n",
       "1                  2000.00                     3            0.0   \n",
       "2                  3000.00                     1            3.0   \n",
       "3                  1009.89                     3            3.0   \n",
       "4                   123.76                     3            4.0   \n",
       "\n",
       "   Contrat_de_travail  Profession  Situation_logement  Sex   Age  Revenu  \n",
       "0                   2           6                   4    0  44.0  2000.0  \n",
       "1                   4           7                   4    1  68.0  1800.0  \n",
       "2                   2           6                   1    0  47.0  1600.0  \n",
       "3                   2           2                   0    1  44.0  3200.0  \n",
       "4                   2           3                   1    0  41.0  1200.0  "
      ]
     },
     "execution_count": 191,
     "metadata": {},
     "output_type": "execute_result"
    }
   ],
   "source": [
    "from pandas import Series\n",
    "train = pd.read_csv(\"/Users/xudawei/Desktop/Dash/Credit的副本/data/TrainData.csv\")\n",
    "test = pd.read_csv(\"/Users/xudawei/Desktop/Dash/Credit的副本/data/TestData.csv\")\n",
    "train.head()"
   ]
  },
  {
   "cell_type": "code",
   "execution_count": 192,
   "metadata": {},
   "outputs": [],
   "source": [
    "# changer a woe  sur l'échantillon d'apprentissage\n",
    "train['Partenaire'] = Series(replace_woe(train['Partenaire'], cutx1, woex1))\n",
    "train['Durée_du_crédit'] = Series(replace_woe(train['Durée_du_crédit'], cutx2, woex2))\n",
    "train['Type_de_produit'] = Series(replace_woe(train['Type_de_produit'], cutx3, woex3))\n",
    "train['Montant_du_crédit'] = Series(replace_woe(train['Montant_du_crédit'], cutx4, woex4))\n",
    "train['Montant_du_renouvelable'] = Series(replace_woe(train['Montant_du_renouvelable'], cutx5, woex5))\n",
    "train['Situation_familliale'] = Series(replace_woe(train['Situation_familliale'], cutx6, woex6))\n",
    "train['Nombre_enfant'] = Series(replace_woe(train['Nombre_enfant'], cutx7, woex7))\n",
    "train['Contrat_de_travail'] = Series(replace_woe(train['Contrat_de_travail'], cutx8, woex8))\n",
    "train['Profession'] = Series(replace_woe(train['Profession'], cutx9, woex9))\n",
    "train['Situation_logement'] = Series(replace_woe(train['Situation_logement'], cutx10, woex10))\n",
    "train['Sex'] = Series(replace_woe(train['Sex'], cutx11, woex11))\n",
    "train['Age'] = Series(replace_woe(train['Age'], cutx12, woex12))\n",
    "train['Revenu'] = Series(replace_woe(train['Revenu'], cutx13, woex13))\n",
    "\n",
    "train.to_csv('/Users/xudawei/Desktop/Dash/Credit的副本/data/Woetrain.csv', index=False)"
   ]
  },
  {
   "cell_type": "code",
   "execution_count": 193,
   "metadata": {},
   "outputs": [],
   "source": [
    "# changer a woe  sur l'échantillon test\n",
    "test['Partenaire'] = Series(replace_woe(test['Partenaire'], cutx1, woex1))\n",
    "test['Durée_du_crédit'] = Series(replace_woe(test['Durée_du_crédit'], cutx2, woex2))\n",
    "test['Type_de_produit'] = Series(replace_woe(test['Type_de_produit'], cutx3, woex3))\n",
    "test['Montant_du_crédit'] = Series(replace_woe(test['Montant_du_crédit'], cutx4, woex4))\n",
    "test['Montant_du_renouvelable'] = Series(replace_woe(test['Montant_du_renouvelable'], cutx5, woex5))\n",
    "test['Situation_familliale'] = Series(replace_woe(test['Situation_familliale'], cutx6, woex6))\n",
    "test['Nombre_enfant'] = Series(replace_woe(test['Nombre_enfant'], cutx7, woex7))\n",
    "test['Contrat_de_travail'] = Series(replace_woe(test['Contrat_de_travail'], cutx8, woex8))\n",
    "test['Profession'] = Series(replace_woe(test['Profession'], cutx9, woex9))\n",
    "test['Situation_logement'] = Series(replace_woe(test['Situation_logement'], cutx10, woex10))\n",
    "test['Sex'] = Series(replace_woe(test['Sex'], cutx11, woex11))\n",
    "test['Age'] = Series(replace_woe(test['Age'], cutx12, woex12))\n",
    "test['Revenu'] = Series(replace_woe(test['Revenu'], cutx13, woex13))\n",
    "\n",
    "test.to_csv('/Users/xudawei/Desktop/Dash/Credit的副本/data/TestWoeData.csv', index=False)"
   ]
  },
  {
   "cell_type": "code",
   "execution_count": 194,
   "metadata": {},
   "outputs": [],
   "source": [
    "from sklearn.model_selection import cross_val_score\n",
    "\n",
    "def cvDictGen(functions, scr, X_train=X_train, Y_train=Y_train, cv=10, verbose=1):\n",
    "    cvDict = {}\n",
    "    for func in functions:\n",
    "        cvScore = cross_val_score(func, X_train, Y_train, cv=cv, verbose=verbose, scoring=scr)\n",
    "        cvDict[str(func).split('(')[0]] = [cvScore.mean(), cvScore.std()]\n",
    "    \n",
    "    return cvDict\n",
    "\n",
    "def cvDictNormalize(cvDict):\n",
    "    cvDictNormalized = {}\n",
    "    for key in cvDict.keys():\n",
    "        for i in cvDict[key]:\n",
    "            cvDictNormalized[key] = ['{:0.2f}'.format((cvDict[key][0]/cvDict[list(cvDict.keys())[0]][0])),\n",
    "                                     '{:0.2f}'.format((cvDict[key][1]/cvDict[list(cvDict.keys())[0]][1]))]\n",
    "    return cvDictNormalized"
   ]
  },
  {
   "cell_type": "code",
   "execution_count": 195,
   "metadata": {},
   "outputs": [],
   "source": [
    "from sklearn.linear_model import LogisticRegression\n",
    "from sklearn.neighbors import KNeighborsClassifier\n",
    "from sklearn.ensemble import AdaBoostClassifier, GradientBoostingClassifier, RandomForestClassifier"
   ]
  },
  {
   "cell_type": "code",
   "execution_count": 196,
   "metadata": {},
   "outputs": [],
   "source": [
    "knMod = KNeighborsClassifier(n_neighbors=5, weights='uniform', algorithm='auto', leaf_size=30, p=2,\n",
    "                             metric='minkowski', metric_params=None)\n"
   ]
  },
  {
   "cell_type": "code",
   "execution_count": 197,
   "metadata": {},
   "outputs": [],
   "source": [
    "lrMod = LogisticRegression(penalty='l1', dual=False, tol=0.0001, C=1.0, fit_intercept=True,\n",
    "                            intercept_scaling=1, class_weight=None, random_state=None, solver='liblinear', max_iter=100,\n",
    "                            multi_class='ovr', verbose=2)"
   ]
  },
  {
   "cell_type": "code",
   "execution_count": 198,
   "metadata": {},
   "outputs": [],
   "source": [
    "adaMod = AdaBoostClassifier(base_estimator=None, n_estimators=200, learning_rate=1.0)"
   ]
  },
  {
   "cell_type": "code",
   "execution_count": 199,
   "metadata": {},
   "outputs": [],
   "source": [
    "gbMod = GradientBoostingClassifier(loss='deviance', learning_rate=0.1, n_estimators=200, subsample=1.0,\n",
    "                                   min_samples_split=2, min_samples_leaf=1, min_weight_fraction_leaf=0.0, max_depth=3,\n",
    "                                   init=None, random_state=None, max_features=None, verbose=0)\n"
   ]
  },
  {
   "cell_type": "code",
   "execution_count": 200,
   "metadata": {},
   "outputs": [],
   "source": [
    "rfMod = RandomForestClassifier(n_estimators=10, criterion='gini', max_depth=None, min_samples_split=2,\n",
    "                               min_samples_leaf=1, min_weight_fraction_leaf=0.0, max_features='auto',\n",
    "                               max_leaf_nodes=None, bootstrap=True, oob_score=False, n_jobs=1, random_state=None, verbose=0)"
   ]
  },
  {
   "cell_type": "code",
   "execution_count": 201,
   "metadata": {},
   "outputs": [
    {
     "name": "stderr",
     "output_type": "stream",
     "text": [
      "[Parallel(n_jobs=1)]: Using backend SequentialBackend with 1 concurrent workers.\n",
      "[Parallel(n_jobs=1)]: Done  10 out of  10 | elapsed:    1.8s finished\n",
      "[Parallel(n_jobs=1)]: Using backend SequentialBackend with 1 concurrent workers.\n"
     ]
    },
    {
     "name": "stdout",
     "output_type": "stream",
     "text": [
      "[LibLinear][LibLinear][LibLinear][LibLinear][LibLinear][LibLinear][LibLinear][LibLinear][LibLinear][LibLinear]"
     ]
    },
    {
     "name": "stderr",
     "output_type": "stream",
     "text": [
      "[Parallel(n_jobs=1)]: Done  10 out of  10 | elapsed:    5.1s finished\n",
      "[Parallel(n_jobs=1)]: Using backend SequentialBackend with 1 concurrent workers.\n",
      "[Parallel(n_jobs=1)]: Done  10 out of  10 | elapsed:  1.0min finished\n",
      "[Parallel(n_jobs=1)]: Using backend SequentialBackend with 1 concurrent workers.\n",
      "[Parallel(n_jobs=1)]: Done  10 out of  10 | elapsed:  1.1min finished\n",
      "[Parallel(n_jobs=1)]: Using backend SequentialBackend with 1 concurrent workers.\n",
      "[Parallel(n_jobs=1)]: Done  10 out of  10 | elapsed:    4.2s finished\n"
     ]
    }
   ],
   "source": [
    "cvD = cvDictGen(functions=[knMod, lrMod, adaMod, gbMod, rfMod], scr='roc_auc')\n",
    "\n"
   ]
  },
  {
   "cell_type": "code",
   "execution_count": 202,
   "metadata": {},
   "outputs": [
    {
     "data": {
      "text/plain": [
       "{'KNeighborsClassifier': [0.5562240823560781, 0.02326850833561105],\n",
       " 'LogisticRegression': [0.81033542893095, 0.030146003717424923],\n",
       " 'AdaBoostClassifier': [0.8299081684779832, 0.014024064383985143],\n",
       " 'GradientBoostingClassifier': [0.8483982466081921, 0.023123118058154188],\n",
       " 'RandomForestClassifier': [0.64607835263662, 0.03637594483015429]}"
      ]
     },
     "execution_count": 202,
     "metadata": {},
     "output_type": "execute_result"
    }
   ],
   "source": [
    "cvD\n",
    "\n"
   ]
  },
  {
   "cell_type": "code",
   "execution_count": 203,
   "metadata": {},
   "outputs": [
    {
     "data": {
      "text/plain": [
       "{'KNeighborsClassifier': ['1.00', '1.00'],\n",
       " 'LogisticRegression': ['1.46', '1.30'],\n",
       " 'AdaBoostClassifier': ['1.49', '0.60'],\n",
       " 'GradientBoostingClassifier': ['1.53', '0.99'],\n",
       " 'RandomForestClassifier': ['1.16', '1.56']}"
      ]
     },
     "execution_count": 203,
     "metadata": {},
     "output_type": "execute_result"
    }
   ],
   "source": [
    "cvDictNormalize(cvD)\n",
    "\n"
   ]
  },
  {
   "cell_type": "code",
   "execution_count": 204,
   "metadata": {},
   "outputs": [],
   "source": [
    "# on peut savoir que LogisticRegression, AdaBoostClassifier et GradientBoostingClassifier\n",
    "# dont out-of-the-bag sont les meilleurs\n",
    "\n"
   ]
  },
  {
   "cell_type": "code",
   "execution_count": 205,
   "metadata": {},
   "outputs": [],
   "source": [
    "#AdaBoost modèle\n",
    "from sklearn.model_selection import GridSearchCV\n",
    "from sklearn.model_selection import RandomizedSearchCV\n",
    "from scipy.stats import randint\n"
   ]
  },
  {
   "cell_type": "code",
   "execution_count": 206,
   "metadata": {},
   "outputs": [],
   "source": [
    "ada_param = {'n_estimators': [10,50,100,200,400],\n",
    "                 'learning_rate': [0.1, 0.05]}\n",
    "\n"
   ]
  },
  {
   "cell_type": "code",
   "execution_count": 207,
   "metadata": {},
   "outputs": [
    {
     "name": "stderr",
     "output_type": "stream",
     "text": [
      "/Users/xudawei/anaconda3/lib/python3.7/site-packages/sklearn/model_selection/_split.py:2053: FutureWarning: You should specify a value for 'cv' instead of relying on the default value. The default value will change from 3 to 5 in version 0.22.\n",
      "  warnings.warn(CV_WARNING, FutureWarning)\n",
      "[Parallel(n_jobs=1)]: Using backend SequentialBackend with 1 concurrent workers.\n"
     ]
    },
    {
     "name": "stdout",
     "output_type": "stream",
     "text": [
      "Fitting 3 folds for each of 5 candidates, totalling 15 fits\n",
      "[CV] n_estimators=50, learning_rate=0.05 .............................\n",
      "[CV] .............. n_estimators=50, learning_rate=0.05, total=   1.4s\n",
      "[CV] n_estimators=50, learning_rate=0.05 .............................\n"
     ]
    },
    {
     "name": "stderr",
     "output_type": "stream",
     "text": [
      "[Parallel(n_jobs=1)]: Done   1 out of   1 | elapsed:    1.7s remaining:    0.0s\n"
     ]
    },
    {
     "name": "stdout",
     "output_type": "stream",
     "text": [
      "[CV] .............. n_estimators=50, learning_rate=0.05, total=   1.5s\n",
      "[CV] n_estimators=50, learning_rate=0.05 .............................\n",
      "[CV] .............. n_estimators=50, learning_rate=0.05, total=   1.4s\n",
      "[CV] n_estimators=100, learning_rate=0.1 .............................\n",
      "[CV] .............. n_estimators=100, learning_rate=0.1, total=   2.7s\n",
      "[CV] n_estimators=100, learning_rate=0.1 .............................\n",
      "[CV] .............. n_estimators=100, learning_rate=0.1, total=   2.9s\n",
      "[CV] n_estimators=100, learning_rate=0.1 .............................\n",
      "[CV] .............. n_estimators=100, learning_rate=0.1, total=   2.7s\n",
      "[CV] n_estimators=400, learning_rate=0.1 .............................\n",
      "[CV] .............. n_estimators=400, learning_rate=0.1, total=  10.8s\n",
      "[CV] n_estimators=400, learning_rate=0.1 .............................\n",
      "[CV] .............. n_estimators=400, learning_rate=0.1, total=  10.8s\n",
      "[CV] n_estimators=400, learning_rate=0.1 .............................\n",
      "[CV] .............. n_estimators=400, learning_rate=0.1, total=  10.3s\n",
      "[CV] n_estimators=200, learning_rate=0.1 .............................\n",
      "[CV] .............. n_estimators=200, learning_rate=0.1, total=   5.0s\n",
      "[CV] n_estimators=200, learning_rate=0.1 .............................\n",
      "[CV] .............. n_estimators=200, learning_rate=0.1, total=   4.9s\n",
      "[CV] n_estimators=200, learning_rate=0.1 .............................\n",
      "[CV] .............. n_estimators=200, learning_rate=0.1, total=   4.9s\n",
      "[CV] n_estimators=200, learning_rate=0.05 ............................\n",
      "[CV] ............. n_estimators=200, learning_rate=0.05, total=   5.0s\n",
      "[CV] n_estimators=200, learning_rate=0.05 ............................\n",
      "[CV] ............. n_estimators=200, learning_rate=0.05, total=   4.9s\n",
      "[CV] n_estimators=200, learning_rate=0.05 ............................\n",
      "[CV] ............. n_estimators=200, learning_rate=0.05, total=   4.9s\n"
     ]
    },
    {
     "name": "stderr",
     "output_type": "stream",
     "text": [
      "[Parallel(n_jobs=1)]: Done  15 out of  15 | elapsed:  1.4min finished\n"
     ]
    }
   ],
   "source": [
    "randomizedSearchAda = RandomizedSearchCV(estimator=adaMod, param_distributions=ada_param, n_iter=5,\n",
    "                                   scoring='roc_auc', fit_params=None, cv=None, verbose=2).fit(X_train, Y_train)\n",
    "\n"
   ]
  },
  {
   "cell_type": "code",
   "execution_count": 208,
   "metadata": {},
   "outputs": [
    {
     "data": {
      "text/plain": [
       "({'n_estimators': 200, 'learning_rate': 0.05}, 0.8433220082305132)"
      ]
     },
     "execution_count": 208,
     "metadata": {},
     "output_type": "execute_result"
    }
   ],
   "source": [
    "randomizedSearchAda.best_params_, randomizedSearchAda.best_score_\n",
    "\n"
   ]
  },
  {
   "cell_type": "code",
   "execution_count": 209,
   "metadata": {},
   "outputs": [],
   "source": [
    "#GB-modèle\n",
    "gbParams = {'loss' : ['deviance', 'exponential'],\n",
    "            'n_estimators': [10,50,100,200,400],\n",
    "            'max_depth': randint(1,5),\n",
    "            'learning_rate':[0.1, 0.05]}\n"
   ]
  },
  {
   "cell_type": "code",
   "execution_count": 210,
   "metadata": {},
   "outputs": [
    {
     "name": "stderr",
     "output_type": "stream",
     "text": [
      "/Users/xudawei/anaconda3/lib/python3.7/site-packages/sklearn/model_selection/_split.py:2053: FutureWarning: You should specify a value for 'cv' instead of relying on the default value. The default value will change from 3 to 5 in version 0.22.\n",
      "  warnings.warn(CV_WARNING, FutureWarning)\n",
      "[Parallel(n_jobs=1)]: Using backend SequentialBackend with 1 concurrent workers.\n"
     ]
    },
    {
     "name": "stdout",
     "output_type": "stream",
     "text": [
      "Fitting 3 folds for each of 10 candidates, totalling 30 fits\n",
      "[CV] learning_rate=0.05, loss=deviance, max_depth=1, n_estimators=50 .\n",
      "[CV]  learning_rate=0.05, loss=deviance, max_depth=1, n_estimators=50, total=   0.5s\n",
      "[CV] learning_rate=0.05, loss=deviance, max_depth=1, n_estimators=50 .\n"
     ]
    },
    {
     "name": "stderr",
     "output_type": "stream",
     "text": [
      "[Parallel(n_jobs=1)]: Done   1 out of   1 | elapsed:    0.5s remaining:    0.0s\n"
     ]
    },
    {
     "name": "stdout",
     "output_type": "stream",
     "text": [
      "[CV]  learning_rate=0.05, loss=deviance, max_depth=1, n_estimators=50, total=   0.6s\n",
      "[CV] learning_rate=0.05, loss=deviance, max_depth=1, n_estimators=50 .\n",
      "[CV]  learning_rate=0.05, loss=deviance, max_depth=1, n_estimators=50, total=   0.5s\n",
      "[CV] learning_rate=0.1, loss=exponential, max_depth=1, n_estimators=100 \n",
      "[CV]  learning_rate=0.1, loss=exponential, max_depth=1, n_estimators=100, total=   0.8s\n",
      "[CV] learning_rate=0.1, loss=exponential, max_depth=1, n_estimators=100 \n",
      "[CV]  learning_rate=0.1, loss=exponential, max_depth=1, n_estimators=100, total=   0.9s\n",
      "[CV] learning_rate=0.1, loss=exponential, max_depth=1, n_estimators=100 \n",
      "[CV]  learning_rate=0.1, loss=exponential, max_depth=1, n_estimators=100, total=   1.1s\n",
      "[CV] learning_rate=0.05, loss=exponential, max_depth=1, n_estimators=50 \n",
      "[CV]  learning_rate=0.05, loss=exponential, max_depth=1, n_estimators=50, total=   0.5s\n",
      "[CV] learning_rate=0.05, loss=exponential, max_depth=1, n_estimators=50 \n",
      "[CV]  learning_rate=0.05, loss=exponential, max_depth=1, n_estimators=50, total=   0.5s\n",
      "[CV] learning_rate=0.05, loss=exponential, max_depth=1, n_estimators=50 \n",
      "[CV]  learning_rate=0.05, loss=exponential, max_depth=1, n_estimators=50, total=   0.5s\n",
      "[CV] learning_rate=0.1, loss=exponential, max_depth=4, n_estimators=10 \n",
      "[CV]  learning_rate=0.1, loss=exponential, max_depth=4, n_estimators=10, total=   0.5s\n",
      "[CV] learning_rate=0.1, loss=exponential, max_depth=4, n_estimators=10 \n",
      "[CV]  learning_rate=0.1, loss=exponential, max_depth=4, n_estimators=10, total=   0.6s\n",
      "[CV] learning_rate=0.1, loss=exponential, max_depth=4, n_estimators=10 \n",
      "[CV]  learning_rate=0.1, loss=exponential, max_depth=4, n_estimators=10, total=   0.5s\n",
      "[CV] learning_rate=0.1, loss=deviance, max_depth=3, n_estimators=200 .\n",
      "[CV]  learning_rate=0.1, loss=deviance, max_depth=3, n_estimators=200, total=   5.4s\n",
      "[CV] learning_rate=0.1, loss=deviance, max_depth=3, n_estimators=200 .\n",
      "[CV]  learning_rate=0.1, loss=deviance, max_depth=3, n_estimators=200, total=   5.2s\n",
      "[CV] learning_rate=0.1, loss=deviance, max_depth=3, n_estimators=200 .\n",
      "[CV]  learning_rate=0.1, loss=deviance, max_depth=3, n_estimators=200, total=   5.1s\n",
      "[CV] learning_rate=0.1, loss=deviance, max_depth=1, n_estimators=200 .\n",
      "[CV]  learning_rate=0.1, loss=deviance, max_depth=1, n_estimators=200, total=   2.1s\n",
      "[CV] learning_rate=0.1, loss=deviance, max_depth=1, n_estimators=200 .\n",
      "[CV]  learning_rate=0.1, loss=deviance, max_depth=1, n_estimators=200, total=   1.8s\n",
      "[CV] learning_rate=0.1, loss=deviance, max_depth=1, n_estimators=200 .\n",
      "[CV]  learning_rate=0.1, loss=deviance, max_depth=1, n_estimators=200, total=   1.9s\n",
      "[CV] learning_rate=0.1, loss=exponential, max_depth=4, n_estimators=200 \n",
      "[CV]  learning_rate=0.1, loss=exponential, max_depth=4, n_estimators=200, total=   8.4s\n",
      "[CV] learning_rate=0.1, loss=exponential, max_depth=4, n_estimators=200 \n",
      "[CV]  learning_rate=0.1, loss=exponential, max_depth=4, n_estimators=200, total=   8.5s\n",
      "[CV] learning_rate=0.1, loss=exponential, max_depth=4, n_estimators=200 \n",
      "[CV]  learning_rate=0.1, loss=exponential, max_depth=4, n_estimators=200, total=   7.7s\n",
      "[CV] learning_rate=0.05, loss=exponential, max_depth=2, n_estimators=100 \n",
      "[CV]  learning_rate=0.05, loss=exponential, max_depth=2, n_estimators=100, total=   1.9s\n",
      "[CV] learning_rate=0.05, loss=exponential, max_depth=2, n_estimators=100 \n",
      "[CV]  learning_rate=0.05, loss=exponential, max_depth=2, n_estimators=100, total=   2.1s\n",
      "[CV] learning_rate=0.05, loss=exponential, max_depth=2, n_estimators=100 \n",
      "[CV]  learning_rate=0.05, loss=exponential, max_depth=2, n_estimators=100, total=   1.8s\n",
      "[CV] learning_rate=0.1, loss=deviance, max_depth=2, n_estimators=100 .\n",
      "[CV]  learning_rate=0.1, loss=deviance, max_depth=2, n_estimators=100, total=   1.6s\n",
      "[CV] learning_rate=0.1, loss=deviance, max_depth=2, n_estimators=100 .\n",
      "[CV]  learning_rate=0.1, loss=deviance, max_depth=2, n_estimators=100, total=   2.2s\n",
      "[CV] learning_rate=0.1, loss=deviance, max_depth=2, n_estimators=100 .\n",
      "[CV]  learning_rate=0.1, loss=deviance, max_depth=2, n_estimators=100, total=   1.9s\n",
      "[CV] learning_rate=0.05, loss=exponential, max_depth=1, n_estimators=100 \n",
      "[CV]  learning_rate=0.05, loss=exponential, max_depth=1, n_estimators=100, total=   1.1s\n",
      "[CV] learning_rate=0.05, loss=exponential, max_depth=1, n_estimators=100 \n",
      "[CV]  learning_rate=0.05, loss=exponential, max_depth=1, n_estimators=100, total=   0.9s\n",
      "[CV] learning_rate=0.05, loss=exponential, max_depth=1, n_estimators=100 \n",
      "[CV]  learning_rate=0.05, loss=exponential, max_depth=1, n_estimators=100, total=   1.2s\n"
     ]
    },
    {
     "name": "stderr",
     "output_type": "stream",
     "text": [
      "[Parallel(n_jobs=1)]: Done  30 out of  30 | elapsed:  1.2min finished\n"
     ]
    }
   ],
   "source": [
    "randomizedSearchGB = RandomizedSearchCV(estimator=gbMod, param_distributions=gbParams, n_iter=10,\n",
    "                                   scoring='roc_auc', fit_params=None, cv=None, verbose=2).fit(X_train, Y_train)\n",
    "\n"
   ]
  },
  {
   "cell_type": "code",
   "execution_count": 211,
   "metadata": {},
   "outputs": [
    {
     "data": {
      "text/plain": [
       "({'learning_rate': 0.1,\n",
       "  'loss': 'deviance',\n",
       "  'max_depth': 3,\n",
       "  'n_estimators': 200},\n",
       " 0.8481081350866809)"
      ]
     },
     "execution_count": 211,
     "metadata": {},
     "output_type": "execute_result"
    }
   ],
   "source": [
    "randomizedSearchGB.best_params_, randomizedSearchGB.best_score_\n"
   ]
  },
  {
   "cell_type": "code",
   "execution_count": 112,
   "metadata": {},
   "outputs": [],
   "source": [
    "bestGbModFitted = randomizedSearchGB.best_estimator_.fit(X_train, Y_train)\n"
   ]
  },
  {
   "cell_type": "code",
   "execution_count": 113,
   "metadata": {},
   "outputs": [],
   "source": [
    "bestAdaModFitted = randomizedSearchAda.best_estimator_.fit(X_train, Y_train)\n"
   ]
  },
  {
   "cell_type": "code",
   "execution_count": 114,
   "metadata": {},
   "outputs": [
    {
     "name": "stderr",
     "output_type": "stream",
     "text": [
      "[Parallel(n_jobs=1)]: Using backend SequentialBackend with 1 concurrent workers.\n",
      "[Parallel(n_jobs=1)]: Done  10 out of  10 | elapsed:   53.6s finished\n",
      "[Parallel(n_jobs=1)]: Using backend SequentialBackend with 1 concurrent workers.\n",
      "[Parallel(n_jobs=1)]: Done  10 out of  10 | elapsed:  1.1min finished\n"
     ]
    }
   ],
   "source": [
    "cvDictHPO = cvDictGen(functions=[bestGbModFitted, bestAdaModFitted], scr='roc_auc')\n"
   ]
  },
  {
   "cell_type": "code",
   "execution_count": 115,
   "metadata": {},
   "outputs": [
    {
     "data": {
      "text/plain": [
       "{'GradientBoostingClassifier': ['1.00', '1.00'],\n",
       " 'AdaBoostClassifier': ['0.99', '1.10']}"
      ]
     },
     "execution_count": 115,
     "metadata": {},
     "output_type": "execute_result"
    }
   ],
   "source": [
    "cvDictNormalize(cvDictHPO)\n"
   ]
  },
  {
   "cell_type": "code",
   "execution_count": 212,
   "metadata": {},
   "outputs": [],
   "source": [
    "#   La matrice de confusion \n",
    "\n",
    "def rocZeroOne(y_true, y_predicted_porba):\n",
    "    \n",
    "    from sklearn.metrics import roc_curve\n",
    "    from scipy.spatial.distance import euclidean\n",
    "    \n",
    "    fpr, tpr, thresholds = roc_curve(y_true, y_predicted_porba[:, 1])\n",
    "    \n",
    "    best = [0, 1]\n",
    "    dist = []\n",
    "    for (x, y) in zip(fpr, tpr):\n",
    "        dist.append([euclidean([x,y], best)])\n",
    "\n",
    "    bestPoint = [fpr[dist.index(min(dist))], tpr[dist.index(min(dist))]]\n",
    "    \n",
    "    bestCutOff1 = thresholds[list(fpr).index(bestPoint[0])]\n",
    "    bestCutOff2 = thresholds[list(tpr).index(bestPoint[1])]\n",
    "    \n",
    "    print('\\n' + 'Le meilleur point de la courbe ROC: TPR = {:0.3f}%, FPR = {:0.3f}%'.format(bestPoint[1]*100, bestPoint[0]*100))\n",
    "    print('\\n' + 'Meilleur point de coupure: {:0.4f}'.format(bestCutOff1))\n",
    "\n",
    "    plt.plot(dist)\n",
    "    plt.xlabel('Index')\n",
    "    plt.ylabel('Euclidean Distance to the perfect [0,1]')\n",
    "    fig = plt.gcf()\n",
    "    fig.set_size_inches(15,5)"
   ]
  },
  {
   "cell_type": "code",
   "execution_count": 213,
   "metadata": {},
   "outputs": [],
   "source": [
    "def plotCvRocCurve(X, y, classifier, nfolds=5):\n",
    "    \n",
    "    from sklearn.metrics import roc_curve, auc\n",
    "    from sklearn.model_selection import StratifiedKFold\n",
    "    import matplotlib.pyplot as plt\n",
    "    from scipy import interp\n",
    "\n",
    "    skf = StratifiedKFold(n_splits=nfolds)\n",
    "    skf.get_n_splits(X, y)\n",
    "\n",
    "    mean_tpr = 0.0\n",
    "    mean_fpr = np.linspace(0, 1, 100)\n",
    "    all_tpr = []\n",
    "    i = 0\n",
    "\n",
    "    for train, test in skf.split(X, y):\n",
    "        probas_ = classifier.fit(X.iloc[train], y.iloc[train]).predict_proba(X.iloc[test])\n",
    "\n",
    "        fpr, tpr, thresholds = roc_curve(y.iloc[test], probas_[:, 1])\n",
    "        mean_tpr += interp(mean_fpr, fpr, tpr)\n",
    "        mean_tpr[0] = 0.0\n",
    "        roc_auc = auc(fpr, tpr)\n",
    "        plt.plot(fpr, tpr, lw=1, label='ROC fold %d (area = %0.2f)' % (i, roc_auc))\n",
    "        i = i +1\n",
    "\n",
    "    plt.plot([0, 1], [0, 1], '--', color=(0.6, 0.6, 0.6), label='Luck')\n",
    "\n",
    "    mean_tpr /= 5.0\n",
    "    mean_tpr[-1] = 1.0\n",
    "    mean_auc = auc(mean_fpr, mean_tpr)\n",
    "    plt.plot(mean_fpr, mean_tpr, 'k--',\n",
    "             label='Mean ROC (area = %0.2f)' % mean_auc, lw=2)\n",
    "\n",
    "    plt.xlim([-0.05, 1.05])\n",
    "    plt.ylim([-0.05, 1.05])\n",
    "    plt.xlabel('False Positive Rate')\n",
    "    plt.ylabel('True Positive Rate')\n",
    "    plt.title('CV ROC curve')\n",
    "    plt.legend(loc=\"lower right\")\n",
    "    fig = plt.gcf()\n",
    "    fig.set_size_inches(15,5)\n",
    "\n",
    "    plt.show()\n",
    "\n",
    "\n"
   ]
  },
  {
   "cell_type": "code",
   "execution_count": 214,
   "metadata": {},
   "outputs": [
    {
     "data": {
      "image/png": "[encoded data removed]",
      "text/plain": [
       "<Figure size 1080x360 with 1 Axes>"
      ]
     },
     "metadata": {
      "needs_background": "light"
     },
     "output_type": "display_data"
    }
   ],
   "source": [
    "plotCvRocCurve(X, Y, randomizedSearchGB.best_estimator_)\n"
   ]
  },
  {
   "cell_type": "code",
   "execution_count": 217,
   "metadata": {},
   "outputs": [
    {
     "name": "stdout",
     "output_type": "stream",
     "text": [
      "\n",
      "Le meilleur point de la courbe ROC: TPR = 78.740%, FPR = 20.763%\n",
      "\n",
      "Meilleur point de coupure: 0.9904\n"
     ]
    },
    {
     "data": {
      "image/png": "[encoded data removed]",
      "text/plain": [
       "<Figure size 1080x360 with 1 Axes>"
      ]
     },
     "metadata": {
      "needs_background": "light"
     },
     "output_type": "display_data"
    }
   ],
   "source": [
    "rocZeroOne(Y_test, randomizedSearchGB.predict_proba(X_test))\n",
    "\n"
   ]
  },
  {
   "cell_type": "code",
   "execution_count": 218,
   "metadata": {},
   "outputs": [
    {
     "data": {
      "image/png": "[encoded data removed]",
      "text/plain": [
       "<Figure size 1080x360 with 1 Axes>"
      ]
     },
     "metadata": {
      "needs_background": "light"
     },
     "output_type": "display_data"
    }
   ],
   "source": [
    "plotCvRocCurve(X, Y, randomizedSearchAda.best_estimator_)\n",
    "\n"
   ]
  },
  {
   "cell_type": "code",
   "execution_count": 219,
   "metadata": {},
   "outputs": [
    {
     "name": "stdout",
     "output_type": "stream",
     "text": [
      "\n",
      "Le meilleur point de la courbe ROC: TPR = 74.927%, FPR = 26.271%\n",
      "\n",
      "Meilleur point de coupure: 0.6113\n"
     ]
    },
    {
     "data": {
      "image/png": "[encoded data removed]",
      "text/plain": [
       "<Figure size 1080x360 with 1 Axes>"
      ]
     },
     "metadata": {
      "needs_background": "light"
     },
     "output_type": "display_data"
    }
   ],
   "source": [
    "rocZeroOne(Y_test, randomizedSearchAda.predict_proba(X_test))\n",
    "\n"
   ]
  },
  {
   "cell_type": "code",
   "execution_count": 220,
   "metadata": {},
   "outputs": [
    {
     "name": "stdout",
     "output_type": "stream",
     "text": [
      "[LibLinear][LibLinear][LibLinear][LibLinear][LibLinear][LibLinear]"
     ]
    },
    {
     "data": {
      "image/png": "[encoded data removed]",
      "text/plain": [
       "<Figure size 1080x360 with 1 Axes>"
      ]
     },
     "metadata": {
      "needs_background": "light"
     },
     "output_type": "display_data"
    }
   ],
   "source": [
    "# LR-modèle\n",
    "data = pd.read_csv('/Users/xudawei/Desktop/Dash/Credit的副本/data/Woetrain.csv')\n",
    "\n",
    "data_Y = data['Credit']\n",
    "# 1) Éliminer les variables qui n'affectent pas \n",
    "# de manière significative la variable dépendante: \n",
    "#                                                Credit','Montant_du_renouvelable','Revenu'\n",
    "#                                               'Profession','Situation_logement','Sex',\n",
    "#                   \n",
    "# 2)  supprimer les variables corrélées： \n",
    "\n",
    "# Partenaire et Type_duproduit(0.46), Montant_du_renouvelable et Type_duproduit(0.76),\n",
    "# Profession et Contra_de_travail(0.67), Age et Contra_de_travail(0.72) , \n",
    "# Age et profession(0.48), Age et Situation_logement(0.42)\n",
    "\n",
    "\n",
    "data_X = data.drop(['Credit','Montant_du_renouvelable',\n",
    "                    'Profession','Situation_logement','Sex',\n",
    "                    'Revenu','Contrat_de_travail'],axis=1)\n",
    "plotCvRocCurve(data_X, data_Y, lrMod.fit(data_X, data_Y))\n",
    "\n",
    "\n"
   ]
  },
  {
   "cell_type": "code",
   "execution_count": 221,
   "metadata": {
    "scrolled": false
   },
   "outputs": [
    {
     "name": "stdout",
     "output_type": "stream",
     "text": [
      "\n",
      "Le meilleur point de la courbe ROC: TPR = 73.557%, FPR = 28.390%\n",
      "\n",
      "Meilleur point de coupure: 0.9902\n"
     ]
    },
    {
     "data": {
      "image/png": "[encoded data removed]",
      "text/plain": [
       "<Figure size 1080x360 with 1 Axes>"
      ]
     },
     "metadata": {
      "needs_background": "light"
     },
     "output_type": "display_data"
    }
   ],
   "source": [
    "Y_test = test['Credit']\n",
    "X_test = test.drop(['Credit','Montant_du_renouvelable',\n",
    "                    'Profession','Situation_logement','Sex',\n",
    "                    'Revenu','Contrat_de_travail'],axis=1)\n",
    "rocZeroOne(Y_test, lrMod.predict_proba(X_test))\n"
   ]
  },
  {
   "cell_type": "markdown",
   "metadata": {},
   "source": [
    "# \n",
    "1. AdaBoostClassifier:\n",
    "\n",
    "({'n_estimators': 200, 'learning_rate': 0.05}, Scoring-ROC_AUC: 0.8433220082305132)\n",
    "\n",
    "Le meilleur point de la courbe ROC: TPR = 74.927%, FPR = 26.271%\n",
    "\n",
    "Meilleur point de coupure: 0.6113\n",
    "\n",
    "F1 score: 0.389020\n",
    "\n",
    "2. GradientBoostingClassifier:\n",
    "\n",
    "({'learning_rate': 0.1,\n",
    "  'loss': 'exponential',\n",
    "  'max_depth': 3,\n",
    "  'n_estimators': 200},\n",
    " Scoring-ROC_AUC:0.8481081350866809\n",
    ")\n",
    "Le meilleur point de la courbe ROC: TPR = 78.740%, FPR = 20.763%\n",
    "Meilleur point de coupure: 0.9904\n",
    "\n",
    "F1 score :  0.3286089\n",
    "\n",
    "3. LogisticRegression:\n",
    "\n",
    "Scoring-ROC_AUC: 0.8423220082305132\n",
    "\n",
    "Le meilleur point de la courbe ROC: TPR = 73.557%, FPR = 28.390%\n",
    "\n",
    "Meilleur point de coupure: 0.9902\n",
    "\n",
    "F1 score : 0.4096801279 \n",
    "\n",
    "\n",
    "Par conséquent, on choisit le modèle logistique pour la prévision (F 1 score est le plus fort 0.4097) "
   ]
  },
  {
   "cell_type": "code",
   "execution_count": 223,
   "metadata": {},
   "outputs": [
    {
     "name": "stdout",
     "output_type": "stream",
     "text": [
      "Optimization terminated successfully.\n",
      "         Current function value: 0.051361\n",
      "         Iterations 10\n",
      "                           Logit Regression Results                           \n",
      "==============================================================================\n",
      "Dep. Variable:                 Credit   No. Observations:                45349\n",
      "Model:                          Logit   Df Residuals:                    45341\n",
      "Method:                           MLE   Df Model:                            7\n",
      "Date:                Thu, 12 Nov 2020   Pseudo R-squ.:                  0.1492\n",
      "Time:                        09:21:57   Log-Likelihood:                -2329.2\n",
      "converged:                       True   LL-Null:                       -2737.5\n",
      "                                        LLR p-value:                4.791e-172\n",
      "========================================================================================\n",
      "                           coef    std err          z      P>|z|      [0.025      0.975]\n",
      "----------------------------------------------------------------------------------------\n",
      "const                    3.7545      0.095     39.509      0.000       3.568       3.941\n",
      "Partenaire               1.4733      0.312      4.729      0.000       0.863       2.084\n",
      "Durée_du_crédit          0.5476      0.121      4.532      0.000       0.311       0.784\n",
      "Type_de_produit         -0.7092      0.346     -2.047      0.041      -1.388      -0.030\n",
      "Montant_du_crédit        0.7990      0.082      9.701      0.000       0.638       0.960\n",
      "Situation_familliale     0.9564      0.104      9.181      0.000       0.752       1.161\n",
      "Nombre_enfant            0.8400      0.268      3.129      0.002       0.314       1.366\n",
      "Age                      0.7487      0.057     13.219      0.000       0.638       0.860\n",
      "========================================================================================\n"
     ]
    },
    {
     "name": "stderr",
     "output_type": "stream",
     "text": [
      "/Users/xudawei/anaconda3/lib/python3.7/site-packages/numpy/core/fromnumeric.py:2389: FutureWarning: Method .ptp is deprecated and will be removed in a future version. Use numpy.ptp instead.\n",
      "  return ptp(axis=axis, out=out, **kwargs)\n"
     ]
    }
   ],
   "source": [
    "import statsmodels.api as sm\n",
    "from sklearn.metrics import roc_curve, auc\n",
    "\n",
    "data = pd.read_csv('/Users/xudawei/Desktop/Dash/Credit的副本/data/Woetrain.csv')\n",
    "\n",
    "Y = data['Credit']\n",
    "\n",
    "X = data.drop(['Credit','Montant_du_renouvelable',\n",
    "                    'Profession','Situation_logement','Sex',\n",
    "                    'Revenu','Contrat_de_travail'],axis=1)\n",
    "\n",
    "X1 = sm.add_constant(X)\n",
    "logit = sm.Logit(Y, X1)\n",
    "result = logit.fit()\n",
    "print(result.summary())\n",
    "\n"
   ]
  },
  {
   "cell_type": "code",
   "execution_count": 224,
   "metadata": {},
   "outputs": [
    {
     "data": {
      "image/png": "[encoded data removed]",
      "text/plain": [
       "<Figure size 432x288 with 1 Axes>"
      ]
     },
     "metadata": {
      "needs_background": "light"
     },
     "output_type": "display_data"
    }
   ],
   "source": [
    "test = pd.read_csv('/Users/xudawei/Desktop/Dash/Credit的副本/data/TestWoeData.csv')\n",
    "Y_test = test['Credit']\n",
    "\n",
    "X_test = test.drop(['Credit','Montant_du_renouvelable',\n",
    "                    'Profession','Situation_logement','Sex',\n",
    "                    'Revenu','Contrat_de_travail'],axis=1)\n",
    "\n",
    "\n",
    "X3 = sm.add_constant(X_test)\n",
    "resu = result.predict(X3)\n",
    "fpr, tpr, threshold = roc_curve(Y_test, resu)\n",
    "rocauc = auc(fpr, tpr)\n",
    "plt.plot(fpr, tpr, 'b', label='AUC = %0.2f' % rocauc)\n",
    "plt.legend(loc = 'lower right')\n",
    "plt.plot([0, 1], [0, 1], 'r--')\n",
    "plt.xlim([0, 1])\n",
    "plt.ylim([0, 1])\n",
    "plt.ylabel('TPR')\n",
    "plt.xlabel('FPR')\n",
    "plt.show()"
   ]
  },
  {
   "cell_type": "code",
   "execution_count": null,
   "metadata": {},
   "outputs": [],
   "source": [
    "\n"
   ]
  },
  {
   "cell_type": "code",
   "execution_count": 225,
   "metadata": {},
   "outputs": [],
   "source": [
    "import math\n",
    "#coe est les paramètres du modèle logistique\n",
    "\n",
    "coe = [3.7545, 1.4733, 0.5476, -0.7092, 0.7990, 0.9564, 0.8400, 0.7487 ]\n",
    "\n",
    "p = 20 / math.log(2)\n",
    "q = 500 - 20 * math.log(20) / math.log(2)\n",
    "baseScore = round(q + p * coe[0], 0)"
   ]
  },
  {
   "cell_type": "code",
   "execution_count": 226,
   "metadata": {},
   "outputs": [
    {
     "data": {
      "text/plain": [
       "522.0"
      ]
     },
     "execution_count": 226,
     "metadata": {},
     "output_type": "execute_result"
    }
   ],
   "source": [
    "baseScore"
   ]
  },
  {
   "cell_type": "code",
   "execution_count": 227,
   "metadata": {},
   "outputs": [],
   "source": [
    "def get_score(coe, woe, factor):\n",
    "    scores = []\n",
    "    for w in woe:\n",
    "        score = round(coe * w * factor, 0)\n",
    "        scores.append(score)\n",
    "    return scores"
   ]
  },
  {
   "cell_type": "code",
   "execution_count": 228,
   "metadata": {},
   "outputs": [],
   "source": [
    "# x5,x9,x10,x11 dont IV valeurs sont 0, du coup, on les suprimer \n",
    "\n",
    "# la corréspondance entre x8 et les autres sont très fortes,\n",
    "# par conséquent, on la supprimer pour éviter multricolinéarité\n",
    "\n",
    "\n",
    "x1 = get_score(coe[1], woex1, p)\n",
    "x2 = get_score(coe[2], woex2, p)\n",
    "x3 = get_score(coe[3], woex3, p)\n",
    "x4 = get_score(coe[4], woex4, p)\n",
    "x6 = get_score(coe[5], woex6, p)\n",
    "x7 = get_score(coe[6], woex7, p)\n",
    "x12 = get_score(coe[7], woex12, p)\n"
   ]
  },
  {
   "cell_type": "code",
   "execution_count": 229,
   "metadata": {},
   "outputs": [
    {
     "name": "stdout",
     "output_type": "stream",
     "text": [
      "[-16.0, 5.0, 18.0] [13.0, 9.0, -3.0, -9.0] [5.0, 0.0, -7.0] [13.0, 12.0, 9.0, -18.0] [-25.0, -0.0, 36.0, 37.0] [-5.0, -1.0, 8.0] [-25.0, -7.0, 7.0, 7.0, 15.0, 24.0, 43.0]\n"
     ]
    }
   ],
   "source": [
    "print(x1,x2,x3,x4,x6,x7,x12)"
   ]
  },
  {
   "cell_type": "code",
   "execution_count": 233,
   "metadata": {},
   "outputs": [],
   "source": [
    "def compute_score(series, cut, score):\n",
    "    list = []\n",
    "    i = 0\n",
    "    while i < len(series):\n",
    "        value = series[i]\n",
    "        j = len(cut) - 2\n",
    "        m = len(cut) - 2\n",
    "        while j >= 0:\n",
    "            if value >= cut[j]:\n",
    "                j = -1\n",
    "            else:\n",
    "                j -= 1\n",
    "                m -= 1\n",
    "        list.append(score[m])\n",
    "        i += 1\n",
    "    return list"
   ]
  },
  {
   "cell_type": "code",
   "execution_count": 234,
   "metadata": {},
   "outputs": [
    {
     "data": {
      "text/html": [
       "<div>\n",
       "<style scoped>\n",
       "    .dataframe tbody tr th:only-of-type {\n",
       "        vertical-align: middle;\n",
       "    }\n",
       "\n",
       "    .dataframe tbody tr th {\n",
       "        vertical-align: top;\n",
       "    }\n",
       "\n",
       "    .dataframe thead th {\n",
       "        text-align: right;\n",
       "    }\n",
       "</style>\n",
       "<table border=\"1\" class=\"dataframe\">\n",
       "  <thead>\n",
       "    <tr style=\"text-align: right;\">\n",
       "      <th></th>\n",
       "      <th>Credit</th>\n",
       "      <th>Partenaire</th>\n",
       "      <th>Durée_du_crédit</th>\n",
       "      <th>Type_de_produit</th>\n",
       "      <th>Montant_du_crédit</th>\n",
       "      <th>Montant_du_renouvelable</th>\n",
       "      <th>Situation_familliale</th>\n",
       "      <th>Nombre_enfant</th>\n",
       "      <th>Contrat_de_travail</th>\n",
       "      <th>Profession</th>\n",
       "      <th>Situation_logement</th>\n",
       "      <th>Sex</th>\n",
       "      <th>Age</th>\n",
       "      <th>Revenu</th>\n",
       "    </tr>\n",
       "  </thead>\n",
       "  <tbody>\n",
       "    <tr>\n",
       "      <th>0</th>\n",
       "      <td>1</td>\n",
       "      <td>8</td>\n",
       "      <td>4.0</td>\n",
       "      <td>1</td>\n",
       "      <td>526.58</td>\n",
       "      <td>2000.0</td>\n",
       "      <td>6</td>\n",
       "      <td>0.0</td>\n",
       "      <td>4</td>\n",
       "      <td>7</td>\n",
       "      <td>4</td>\n",
       "      <td>0</td>\n",
       "      <td>66.0</td>\n",
       "      <td>1700.0</td>\n",
       "    </tr>\n",
       "    <tr>\n",
       "      <th>1</th>\n",
       "      <td>1</td>\n",
       "      <td>2</td>\n",
       "      <td>3.0</td>\n",
       "      <td>1</td>\n",
       "      <td>549.99</td>\n",
       "      <td>3000.0</td>\n",
       "      <td>1</td>\n",
       "      <td>0.0</td>\n",
       "      <td>2</td>\n",
       "      <td>6</td>\n",
       "      <td>2</td>\n",
       "      <td>1</td>\n",
       "      <td>54.0</td>\n",
       "      <td>1500.0</td>\n",
       "    </tr>\n",
       "  </tbody>\n",
       "</table>\n",
       "</div>"
      ],
      "text/plain": [
       "   Credit  Partenaire  Durée_du_crédit  Type_de_produit  Montant_du_crédit  \\\n",
       "0       1           8              4.0                1             526.58   \n",
       "1       1           2              3.0                1             549.99   \n",
       "\n",
       "   Montant_du_renouvelable  Situation_familliale  Nombre_enfant  \\\n",
       "0                   2000.0                     6            0.0   \n",
       "1                   3000.0                     1            0.0   \n",
       "\n",
       "   Contrat_de_travail  Profession  Situation_logement  Sex   Age  Revenu  \n",
       "0                   4           7                   4    0  66.0  1700.0  \n",
       "1                   2           6                   2    1  54.0  1500.0  "
      ]
     },
     "execution_count": 234,
     "metadata": {},
     "output_type": "execute_result"
    }
   ],
   "source": [
    "test1 = pd.read_csv('/Users/xudawei/Desktop/Dash/Credit的副本/data/TestData.csv')\n",
    "test1.head(n=2)"
   ]
  },
  {
   "cell_type": "code",
   "execution_count": 235,
   "metadata": {},
   "outputs": [],
   "source": [
    "test1['BaseScore'] = Series(np.zeros(len(test1))) + baseScore\n",
    "test1['x1'] = Series(compute_score(test1['Partenaire'], cutx1, x1))\n",
    "test1['x2'] = Series(compute_score(test1['Durée_du_crédit'], cutx2, x2))\n",
    "test1['x3'] = Series(compute_score(test1['Type_de_produit'], cutx3, x3))\n",
    "test1['x4'] = Series(compute_score(test1['Montant_du_crédit'], cutx4, x4))\n",
    "\n",
    "test1['x6'] = Series(compute_score(test1['Situation_familliale'], cutx6, x6))\n",
    "test1['x7'] = Series(compute_score(test1['Nombre_enfant'], cutx7, x7))\n",
    "test1['x12'] = Series(compute_score(test1['Age'], cutx12, x12))\n",
    "test1['Score'] = test1['x1'] + test1['x2'] + test1['x3']+ test1['x4'] +test1['x6'] + test1['x7'] +test1['x12']  + baseScore\n",
    "test1.to_csv('/Users/xudawei/Desktop/Dash/Credit的副本/data/ScoreData.csv', index=False)\n"
   ]
  },
  {
   "cell_type": "code",
   "execution_count": 237,
   "metadata": {},
   "outputs": [
    {
     "data": {
      "text/html": [
       "<div>\n",
       "<style scoped>\n",
       "    .dataframe tbody tr th:only-of-type {\n",
       "        vertical-align: middle;\n",
       "    }\n",
       "\n",
       "    .dataframe tbody tr th {\n",
       "        vertical-align: top;\n",
       "    }\n",
       "\n",
       "    .dataframe thead th {\n",
       "        text-align: right;\n",
       "    }\n",
       "</style>\n",
       "<table border=\"1\" class=\"dataframe\">\n",
       "  <thead>\n",
       "    <tr style=\"text-align: right;\">\n",
       "      <th></th>\n",
       "      <th>Credit</th>\n",
       "      <th>Partenaire</th>\n",
       "      <th>Durée_du_crédit</th>\n",
       "      <th>Type_de_produit</th>\n",
       "      <th>Montant_du_crédit</th>\n",
       "      <th>Montant_du_renouvelable</th>\n",
       "      <th>Situation_familliale</th>\n",
       "      <th>Nombre_enfant</th>\n",
       "      <th>Contrat_de_travail</th>\n",
       "      <th>Profession</th>\n",
       "      <th>Situation_logement</th>\n",
       "      <th>Sex</th>\n",
       "      <th>Age</th>\n",
       "      <th>Revenu</th>\n",
       "      <th>BaseScore</th>\n",
       "      <th>x1</th>\n",
       "      <th>x2</th>\n",
       "      <th>x3</th>\n",
       "      <th>x4</th>\n",
       "      <th>x6</th>\n",
       "      <th>x7</th>\n",
       "      <th>x12</th>\n",
       "      <th>Score</th>\n",
       "    </tr>\n",
       "  </thead>\n",
       "  <tbody>\n",
       "    <tr>\n",
       "      <th>0</th>\n",
       "      <td>1</td>\n",
       "      <td>8</td>\n",
       "      <td>4.0</td>\n",
       "      <td>1</td>\n",
       "      <td>526.58</td>\n",
       "      <td>2000.00</td>\n",
       "      <td>6</td>\n",
       "      <td>0.0</td>\n",
       "      <td>4</td>\n",
       "      <td>7</td>\n",
       "      <td>4</td>\n",
       "      <td>0</td>\n",
       "      <td>66.0</td>\n",
       "      <td>1700.0</td>\n",
       "      <td>522.0</td>\n",
       "      <td>18.0</td>\n",
       "      <td>9.0</td>\n",
       "      <td>-7.0</td>\n",
       "      <td>9.0</td>\n",
       "      <td>37.0</td>\n",
       "      <td>-1.0</td>\n",
       "      <td>43.0</td>\n",
       "      <td>630.0</td>\n",
       "    </tr>\n",
       "    <tr>\n",
       "      <th>1</th>\n",
       "      <td>1</td>\n",
       "      <td>2</td>\n",
       "      <td>3.0</td>\n",
       "      <td>1</td>\n",
       "      <td>549.99</td>\n",
       "      <td>3000.00</td>\n",
       "      <td>1</td>\n",
       "      <td>0.0</td>\n",
       "      <td>2</td>\n",
       "      <td>6</td>\n",
       "      <td>2</td>\n",
       "      <td>1</td>\n",
       "      <td>54.0</td>\n",
       "      <td>1500.0</td>\n",
       "      <td>522.0</td>\n",
       "      <td>5.0</td>\n",
       "      <td>13.0</td>\n",
       "      <td>-7.0</td>\n",
       "      <td>9.0</td>\n",
       "      <td>-0.0</td>\n",
       "      <td>-1.0</td>\n",
       "      <td>15.0</td>\n",
       "      <td>556.0</td>\n",
       "    </tr>\n",
       "    <tr>\n",
       "      <th>2</th>\n",
       "      <td>1</td>\n",
       "      <td>8</td>\n",
       "      <td>10.0</td>\n",
       "      <td>0</td>\n",
       "      <td>576.39</td>\n",
       "      <td>576.39</td>\n",
       "      <td>2</td>\n",
       "      <td>0.0</td>\n",
       "      <td>2</td>\n",
       "      <td>6</td>\n",
       "      <td>1</td>\n",
       "      <td>1</td>\n",
       "      <td>46.0</td>\n",
       "      <td>1600.0</td>\n",
       "      <td>522.0</td>\n",
       "      <td>18.0</td>\n",
       "      <td>-3.0</td>\n",
       "      <td>0.0</td>\n",
       "      <td>9.0</td>\n",
       "      <td>-0.0</td>\n",
       "      <td>-1.0</td>\n",
       "      <td>7.0</td>\n",
       "      <td>552.0</td>\n",
       "    </tr>\n",
       "    <tr>\n",
       "      <th>3</th>\n",
       "      <td>1</td>\n",
       "      <td>8</td>\n",
       "      <td>10.0</td>\n",
       "      <td>0</td>\n",
       "      <td>1588.12</td>\n",
       "      <td>1588.12</td>\n",
       "      <td>3</td>\n",
       "      <td>1.0</td>\n",
       "      <td>2</td>\n",
       "      <td>3</td>\n",
       "      <td>0</td>\n",
       "      <td>0</td>\n",
       "      <td>32.0</td>\n",
       "      <td>2045.0</td>\n",
       "      <td>522.0</td>\n",
       "      <td>18.0</td>\n",
       "      <td>-3.0</td>\n",
       "      <td>0.0</td>\n",
       "      <td>-18.0</td>\n",
       "      <td>37.0</td>\n",
       "      <td>8.0</td>\n",
       "      <td>-7.0</td>\n",
       "      <td>557.0</td>\n",
       "    </tr>\n",
       "    <tr>\n",
       "      <th>4</th>\n",
       "      <td>1</td>\n",
       "      <td>2</td>\n",
       "      <td>12.0</td>\n",
       "      <td>0</td>\n",
       "      <td>428.99</td>\n",
       "      <td>428.99</td>\n",
       "      <td>0</td>\n",
       "      <td>0.0</td>\n",
       "      <td>4</td>\n",
       "      <td>4</td>\n",
       "      <td>1</td>\n",
       "      <td>0</td>\n",
       "      <td>47.0</td>\n",
       "      <td>1095.0</td>\n",
       "      <td>522.0</td>\n",
       "      <td>5.0</td>\n",
       "      <td>-9.0</td>\n",
       "      <td>0.0</td>\n",
       "      <td>12.0</td>\n",
       "      <td>-0.0</td>\n",
       "      <td>-1.0</td>\n",
       "      <td>7.0</td>\n",
       "      <td>536.0</td>\n",
       "    </tr>\n",
       "  </tbody>\n",
       "</table>\n",
       "</div>"
      ],
      "text/plain": [
       "   Credit  Partenaire  Durée_du_crédit  Type_de_produit  Montant_du_crédit  \\\n",
       "0       1           8              4.0                1             526.58   \n",
       "1       1           2              3.0                1             549.99   \n",
       "2       1           8             10.0                0             576.39   \n",
       "3       1           8             10.0                0            1588.12   \n",
       "4       1           2             12.0                0             428.99   \n",
       "\n",
       "   Montant_du_renouvelable  Situation_familliale  Nombre_enfant  \\\n",
       "0                  2000.00                     6            0.0   \n",
       "1                  3000.00                     1            0.0   \n",
       "2                   576.39                     2            0.0   \n",
       "3                  1588.12                     3            1.0   \n",
       "4                   428.99                     0            0.0   \n",
       "\n",
       "   Contrat_de_travail  Profession  Situation_logement  Sex   Age  Revenu  \\\n",
       "0                   4           7                   4    0  66.0  1700.0   \n",
       "1                   2           6                   2    1  54.0  1500.0   \n",
       "2                   2           6                   1    1  46.0  1600.0   \n",
       "3                   2           3                   0    0  32.0  2045.0   \n",
       "4                   4           4                   1    0  47.0  1095.0   \n",
       "\n",
       "   BaseScore    x1    x2   x3    x4    x6   x7   x12  Score  \n",
       "0      522.0  18.0   9.0 -7.0   9.0  37.0 -1.0  43.0  630.0  \n",
       "1      522.0   5.0  13.0 -7.0   9.0  -0.0 -1.0  15.0  556.0  \n",
       "2      522.0  18.0  -3.0  0.0   9.0  -0.0 -1.0   7.0  552.0  \n",
       "3      522.0  18.0  -3.0  0.0 -18.0  37.0  8.0  -7.0  557.0  \n",
       "4      522.0   5.0  -9.0  0.0  12.0  -0.0 -1.0   7.0  536.0  "
      ]
     },
     "execution_count": 237,
     "metadata": {},
     "output_type": "execute_result"
    }
   ],
   "source": [
    "ScoreData = pd.read_csv(\"/Users/xudawei/Desktop/Dash/Credit的副本/data/ScoreData.csv\")\n",
    "ScoreData.head(n=5)"
   ]
  },
  {
   "cell_type": "code",
   "execution_count": 238,
   "metadata": {},
   "outputs": [
    {
     "name": "stdout",
     "output_type": "stream",
     "text": [
      "<class 'pandas.core.frame.DataFrame'>\n",
      "RangeIndex: 19436 entries, 0 to 19435\n",
      "Data columns (total 23 columns):\n",
      "Credit                     19436 non-null int64\n",
      "Partenaire                 19436 non-null int64\n",
      "Durée_du_crédit            19436 non-null float64\n",
      "Type_de_produit            19436 non-null int64\n",
      "Montant_du_crédit          19436 non-null float64\n",
      "Montant_du_renouvelable    19436 non-null float64\n",
      "Situation_familliale       19436 non-null int64\n",
      "Nombre_enfant              19436 non-null float64\n",
      "Contrat_de_travail         19436 non-null int64\n",
      "Profession                 19436 non-null int64\n",
      "Situation_logement         19436 non-null int64\n",
      "Sex                        19436 non-null int64\n",
      "Age                        19436 non-null float64\n",
      "Revenu                     19436 non-null float64\n",
      "BaseScore                  19436 non-null float64\n",
      "x1                         19436 non-null float64\n",
      "x2                         19436 non-null float64\n",
      "x3                         19436 non-null float64\n",
      "x4                         19436 non-null float64\n",
      "x6                         19436 non-null float64\n",
      "x7                         19436 non-null float64\n",
      "x12                        19436 non-null float64\n",
      "Score                      19436 non-null float64\n",
      "dtypes: float64(15), int64(8)\n",
      "memory usage: 3.4 MB\n"
     ]
    }
   ],
   "source": [
    "ScoreData.info()"
   ]
  },
  {
   "cell_type": "code",
   "execution_count": 239,
   "metadata": {},
   "outputs": [
    {
     "data": {
      "text/html": [
       "<div>\n",
       "<style scoped>\n",
       "    .dataframe tbody tr th:only-of-type {\n",
       "        vertical-align: middle;\n",
       "    }\n",
       "\n",
       "    .dataframe tbody tr th {\n",
       "        vertical-align: top;\n",
       "    }\n",
       "\n",
       "    .dataframe thead th {\n",
       "        text-align: right;\n",
       "    }\n",
       "</style>\n",
       "<table border=\"1\" class=\"dataframe\">\n",
       "  <thead>\n",
       "    <tr style=\"text-align: right;\">\n",
       "      <th></th>\n",
       "      <th>Credit</th>\n",
       "      <th>Partenaire</th>\n",
       "      <th>Durée_du_crédit</th>\n",
       "      <th>Type_de_produit</th>\n",
       "      <th>Montant_du_crédit</th>\n",
       "      <th>Montant_du_renouvelable</th>\n",
       "      <th>Situation_familliale</th>\n",
       "      <th>Nombre_enfant</th>\n",
       "      <th>Contrat_de_travail</th>\n",
       "      <th>Profession</th>\n",
       "      <th>Situation_logement</th>\n",
       "      <th>Sex</th>\n",
       "      <th>Age</th>\n",
       "      <th>Revenu</th>\n",
       "      <th>BaseScore</th>\n",
       "      <th>x1</th>\n",
       "      <th>x2</th>\n",
       "      <th>x3</th>\n",
       "      <th>x4</th>\n",
       "      <th>x6</th>\n",
       "      <th>x7</th>\n",
       "      <th>x12</th>\n",
       "      <th>Score</th>\n",
       "    </tr>\n",
       "  </thead>\n",
       "  <tbody>\n",
       "    <tr>\n",
       "      <th>0</th>\n",
       "      <td>1</td>\n",
       "      <td>8</td>\n",
       "      <td>4.0</td>\n",
       "      <td>1</td>\n",
       "      <td>526.58</td>\n",
       "      <td>2000.00</td>\n",
       "      <td>6</td>\n",
       "      <td>0.0</td>\n",
       "      <td>4</td>\n",
       "      <td>7</td>\n",
       "      <td>4</td>\n",
       "      <td>0</td>\n",
       "      <td>66.0</td>\n",
       "      <td>1700.0</td>\n",
       "      <td>522.0</td>\n",
       "      <td>18.0</td>\n",
       "      <td>9.0</td>\n",
       "      <td>-7.0</td>\n",
       "      <td>9.0</td>\n",
       "      <td>37.0</td>\n",
       "      <td>-1.0</td>\n",
       "      <td>43.0</td>\n",
       "      <td>630.0</td>\n",
       "    </tr>\n",
       "    <tr>\n",
       "      <th>1</th>\n",
       "      <td>1</td>\n",
       "      <td>2</td>\n",
       "      <td>3.0</td>\n",
       "      <td>1</td>\n",
       "      <td>549.99</td>\n",
       "      <td>3000.00</td>\n",
       "      <td>1</td>\n",
       "      <td>0.0</td>\n",
       "      <td>2</td>\n",
       "      <td>6</td>\n",
       "      <td>2</td>\n",
       "      <td>1</td>\n",
       "      <td>54.0</td>\n",
       "      <td>1500.0</td>\n",
       "      <td>522.0</td>\n",
       "      <td>5.0</td>\n",
       "      <td>13.0</td>\n",
       "      <td>-7.0</td>\n",
       "      <td>9.0</td>\n",
       "      <td>-0.0</td>\n",
       "      <td>-1.0</td>\n",
       "      <td>15.0</td>\n",
       "      <td>556.0</td>\n",
       "    </tr>\n",
       "    <tr>\n",
       "      <th>2</th>\n",
       "      <td>1</td>\n",
       "      <td>8</td>\n",
       "      <td>10.0</td>\n",
       "      <td>0</td>\n",
       "      <td>576.39</td>\n",
       "      <td>576.39</td>\n",
       "      <td>2</td>\n",
       "      <td>0.0</td>\n",
       "      <td>2</td>\n",
       "      <td>6</td>\n",
       "      <td>1</td>\n",
       "      <td>1</td>\n",
       "      <td>46.0</td>\n",
       "      <td>1600.0</td>\n",
       "      <td>522.0</td>\n",
       "      <td>18.0</td>\n",
       "      <td>-3.0</td>\n",
       "      <td>0.0</td>\n",
       "      <td>9.0</td>\n",
       "      <td>-0.0</td>\n",
       "      <td>-1.0</td>\n",
       "      <td>7.0</td>\n",
       "      <td>552.0</td>\n",
       "    </tr>\n",
       "    <tr>\n",
       "      <th>3</th>\n",
       "      <td>1</td>\n",
       "      <td>8</td>\n",
       "      <td>10.0</td>\n",
       "      <td>0</td>\n",
       "      <td>1588.12</td>\n",
       "      <td>1588.12</td>\n",
       "      <td>3</td>\n",
       "      <td>1.0</td>\n",
       "      <td>2</td>\n",
       "      <td>3</td>\n",
       "      <td>0</td>\n",
       "      <td>0</td>\n",
       "      <td>32.0</td>\n",
       "      <td>2045.0</td>\n",
       "      <td>522.0</td>\n",
       "      <td>18.0</td>\n",
       "      <td>-3.0</td>\n",
       "      <td>0.0</td>\n",
       "      <td>-18.0</td>\n",
       "      <td>37.0</td>\n",
       "      <td>8.0</td>\n",
       "      <td>-7.0</td>\n",
       "      <td>557.0</td>\n",
       "    </tr>\n",
       "    <tr>\n",
       "      <th>4</th>\n",
       "      <td>1</td>\n",
       "      <td>2</td>\n",
       "      <td>12.0</td>\n",
       "      <td>0</td>\n",
       "      <td>428.99</td>\n",
       "      <td>428.99</td>\n",
       "      <td>0</td>\n",
       "      <td>0.0</td>\n",
       "      <td>4</td>\n",
       "      <td>4</td>\n",
       "      <td>1</td>\n",
       "      <td>0</td>\n",
       "      <td>47.0</td>\n",
       "      <td>1095.0</td>\n",
       "      <td>522.0</td>\n",
       "      <td>5.0</td>\n",
       "      <td>-9.0</td>\n",
       "      <td>0.0</td>\n",
       "      <td>12.0</td>\n",
       "      <td>-0.0</td>\n",
       "      <td>-1.0</td>\n",
       "      <td>7.0</td>\n",
       "      <td>536.0</td>\n",
       "    </tr>\n",
       "  </tbody>\n",
       "</table>\n",
       "</div>"
      ],
      "text/plain": [
       "   Credit  Partenaire  Durée_du_crédit  Type_de_produit  Montant_du_crédit  \\\n",
       "0       1           8              4.0                1             526.58   \n",
       "1       1           2              3.0                1             549.99   \n",
       "2       1           8             10.0                0             576.39   \n",
       "3       1           8             10.0                0            1588.12   \n",
       "4       1           2             12.0                0             428.99   \n",
       "\n",
       "   Montant_du_renouvelable  Situation_familliale  Nombre_enfant  \\\n",
       "0                  2000.00                     6            0.0   \n",
       "1                  3000.00                     1            0.0   \n",
       "2                   576.39                     2            0.0   \n",
       "3                  1588.12                     3            1.0   \n",
       "4                   428.99                     0            0.0   \n",
       "\n",
       "   Contrat_de_travail  Profession  Situation_logement  Sex   Age  Revenu  \\\n",
       "0                   4           7                   4    0  66.0  1700.0   \n",
       "1                   2           6                   2    1  54.0  1500.0   \n",
       "2                   2           6                   1    1  46.0  1600.0   \n",
       "3                   2           3                   0    0  32.0  2045.0   \n",
       "4                   4           4                   1    0  47.0  1095.0   \n",
       "\n",
       "   BaseScore    x1    x2   x3    x4    x6   x7   x12  Score  \n",
       "0      522.0  18.0   9.0 -7.0   9.0  37.0 -1.0  43.0  630.0  \n",
       "1      522.0   5.0  13.0 -7.0   9.0  -0.0 -1.0  15.0  556.0  \n",
       "2      522.0  18.0  -3.0  0.0   9.0  -0.0 -1.0   7.0  552.0  \n",
       "3      522.0  18.0  -3.0  0.0 -18.0  37.0  8.0  -7.0  557.0  \n",
       "4      522.0   5.0  -9.0  0.0  12.0  -0.0 -1.0   7.0  536.0  "
      ]
     },
     "execution_count": 239,
     "metadata": {},
     "output_type": "execute_result"
    }
   ],
   "source": [
    "# de trouver des clients qui ont les bons credits\n",
    "ScoreData[ScoreData.Credit == 1].head()"
   ]
  },
  {
   "cell_type": "code",
   "execution_count": null,
   "metadata": {},
   "outputs": [],
   "source": []
  },
  {
   "cell_type": "code",
   "execution_count": null,
   "metadata": {},
   "outputs": [],
   "source": []
  },
  {
   "cell_type": "code",
   "execution_count": null,
   "metadata": {},
   "outputs": [],
   "source": []
  }
 ],
 "metadata": {
  "kernelspec": {
   "display_name": "Python 3",
   "language": "python",
   "name": "python3"
  },
  "language_info": {
   "codemirror_mode": {
    "name": "ipython",
    "version": 3
   },
   "file_extension": ".py",
   "mimetype": "text/x-python",
   "name": "python",
   "nbconvert_exporter": "python",
   "pygments_lexer": "ipython3",
   "version": "3.7.3"
  }
 },
 "nbformat": 4,
 "nbformat_minor": 2
}
